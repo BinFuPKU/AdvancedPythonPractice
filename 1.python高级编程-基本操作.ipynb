{
 "cells": [
  {
   "cell_type": "code",
   "execution_count": null,
   "id": "initial_id",
   "metadata": {
    "collapsed": true
   },
   "outputs": [],
   "source": []
  },
  {
   "cell_type": "code",
   "execution_count": 7,
   "id": "e14e4505459254dc",
   "metadata": {
    "ExecuteTime": {
     "end_time": "2023-08-17T09:23:10.597408100Z",
     "start_time": "2023-08-17T09:23:10.566188300Z"
    }
   },
   "outputs": [
    {
     "name": "stdout",
     "output_type": "stream",
     "text": [
      "b'\\x01\\x02\\x03'\n",
      "b'fubin'\n",
      "[102, 117, 98, 105, 110]\n",
      "(102, 117, 98, 105, 110)\n",
      "<class 'bytes'>\n"
     ]
    }
   ],
   "source": [
    "# byte字节\n",
    "print(bytes([1,2,3]))\n",
    "print(bytes('fubin'.encode('utf-8')))\n",
    "print(list(b'fubin'))\n",
    "print(tuple(b'fubin'))\n",
    "print(type(b'fubin'))"
   ]
  },
  {
   "cell_type": "code",
   "execution_count": 11,
   "id": "ef22e56711c24491",
   "metadata": {
    "ExecuteTime": {
     "end_time": "2023-08-17T09:27:17.479530300Z",
     "start_time": "2023-08-17T09:27:15.089058800Z"
    }
   },
   "outputs": [
    {
     "name": "stdout",
     "output_type": "stream",
     "text": [
      "2.046741008758545\n",
      "0.015621423721313477\n"
     ]
    }
   ],
   "source": [
    "# 字符串拼接效率比较\n",
    "import time\n",
    "\n",
    "str_list = [str(i) for i in range(1000000)]\n",
    "\n",
    "# 1. + 拼接\n",
    "time1 = time.time()\n",
    "s = ''\n",
    "for str_ in str_list:\n",
    "    s += str_\n",
    "print(time.time() - time1)\n",
    "\n",
    "# 2. join拼接\n",
    "time1 = time.time()\n",
    "s = ''.join(str_list)\n",
    "print(time.time() - time1)"
   ]
  },
  {
   "cell_type": "code",
   "execution_count": 33,
   "id": "636feb0f993d6a0b",
   "metadata": {
    "ExecuteTime": {
     "end_time": "2023-08-17T10:51:34.417034800Z",
     "start_time": "2023-08-17T10:51:34.401434Z"
    }
   },
   "outputs": [
    {
     "name": "stdout",
     "output_type": "stream",
     "text": [
      "zip:\n",
      "\t 1 4 7\n",
      "\t 2 5 8\n",
      "\t 3 6 9\n",
      "\t (1, 2, 3)\n",
      "\t (4, 5, 6)\n",
      "\t (7, 8, 9)\n",
      "fronzenset: frozenset({1, 2, 3})\n",
      "namedtuple: student_info(id='1001', name='fb', gender='F', age=18)\n",
      "deque: [2, 1, 0]\n",
      "OrderedDict: OrderedDict([('u', 20), ('b', 15), ('f', 10)])\n",
      "defaultdict: 1 0\n",
      "defaultdict: {'2', '1'} \n",
      "defaultdict: {1, 2} set()\n",
      "defaultdict: [1, 2] []\n",
      "Counter: Counter({'f': 3, 'i': 2, 'u': 1, 'b': 1})\n",
      "ChainMap: 5 5 2 1\n",
      "iter迭代器:\n",
      "\t 1\n",
      "\t 2\n",
      "\t 3\n",
      "yield传出:\n",
      "\t 1\n",
      "\t 1\n",
      "\t 2\n",
      "\t 3\n",
      "yield传入:\n",
      "\t fu\n",
      "\t bin\n",
      "\t stop\n",
      "\t with: open two file as the context manager!\n",
      "for...else语法糖:\n",
      "\t 0\n",
      "\t 1\n",
      "\t 2\n",
      "\t else\n",
      "函数注解: {'a': <class 'int'>, 'b': <class 'int'>, 'return': <class 'int'>}\n"
     ]
    }
   ],
   "source": [
    "# zip 拼接\n",
    "print('zip:')\n",
    "for a,b,c in zip([1,2,3],[4,5,6], [7,8,9]):\n",
    "    print('\\t', a,b,c)\n",
    "\n",
    "# zip(*zip) 反拼接\n",
    "for a in zip(*zip([1,2,3], [4,5,6], [7,8,9])):\n",
    "    print('\\t', a)\n",
    "\n",
    "# fronzenset: 不可变、可哈希、无序的集合\n",
    "a = frozenset([1,2,3])\n",
    "print('fronzenset:', a)\n",
    "\n",
    "# namedtuple: 命名元组\n",
    "from collections import namedtuple\n",
    "# 元组名，元组属性\n",
    "student = namedtuple('student_info','id, name, gender, age')\n",
    "s1 = student(name='fb', id='1001', gender='F', age=18) # 必须全部赋值\n",
    "print('namedtuple:', s1)\n",
    "# 如坐标 p = namedtuple('postion', ['lat','lon'])\n",
    "\n",
    "# deque：双端队列\n",
    "from collections import deque\n",
    "d = deque()\n",
    "for i in range(3):\n",
    "    d.append(i)\n",
    "# print([d.popleft() for i in range(3)]) # [0, 1, 2]\n",
    "print('deque:', [d.pop() for i in range(3)]) # [2, 1, 0]\n",
    "\n",
    "# OrderedDict：有序字典，保持加入时候的顺序\n",
    "from collections import OrderedDict\n",
    "od = OrderedDict(sorted({'f': 10, 'u': 20, 'b': 15}.items(), key=lambda x:x[-1], reverse=True))\n",
    "print('OrderedDict:', od)\n",
    "\n",
    "# defaultdict: 若字典不存在该键值时，返回默认值。\n",
    "from collections import defaultdict\n",
    "# int\n",
    "dd = defaultdict(int)\n",
    "dd[0] = 1\n",
    "print('defaultdict:', dd[0], dd[1]) # int 默认是0\n",
    "# str\n",
    "dd = defaultdict(str)\n",
    "dd[0] = {'1','2'}\n",
    "print('defaultdict:', dd[0], dd[1]) # str 默认是''\n",
    "# set\n",
    "dd = defaultdict(set)\n",
    "dd[0] = {1,2}\n",
    "print('defaultdict:', dd[0], dd[1]) # set 默认是set()\n",
    "# list\n",
    "dd = defaultdict(list)\n",
    "dd[0] = [1,2]\n",
    "print('defaultdict:', dd[0], dd[1]) # list 默认是[]\n",
    "\n",
    "# Counter：输入list，自动统计各元素值出现的频率并构建dict\n",
    "from collections import Counter\n",
    "c = Counter(['f','f','u','f','b','i','i'])\n",
    "print('Counter:', c)\n",
    "\n",
    "# ChainMap: 逻辑上合并多个字典或映射，实际上并没有合并。查找时按照合并顺序查找到为止。\n",
    "from collections import ChainMap\n",
    "b = {'b':1, 'f':6}\n",
    "a = {'f':5, 'u':2}\n",
    "c = ChainMap(a, b) # 先从a中查找，再从b中查找，和参数传入顺序有关\n",
    "print('ChainMap:', c['f'], c['f'], c['u'], c['b'])\n",
    "\n",
    "# iter迭代器：具体实现其类内__next__和__iter__函数\n",
    "print('iter迭代器:')\n",
    "i = iter([1,2,3])\n",
    "for _ in range(3):\n",
    "    print('\\t', next(i))  # 超过长度则StopIteration\n",
    "# 可以自定义迭代器，只需要写__next__函数\n",
    "\n",
    "# yield生成器传出：与return不同，return返回后终止执行后续代码，yield返回中间结果后等待处理完后继续执行后续代码。阻塞式。\n",
    "def fibonacci():\n",
    "    a, b = 0, 1\n",
    "    while True:\n",
    "        yield b # 注意\n",
    "        a, b = b, a+b\n",
    "        if b>10:\n",
    "            break\n",
    "f = fibonacci()\n",
    "print('yield传出:')\n",
    "for _ in range(4):\n",
    "    print('\\t', next(f))\n",
    "\n",
    "# yield生成器传入：阻塞式\n",
    "def test_yield_input():\n",
    "    while True:\n",
    "        a = (yield) # 注意\n",
    "        print('\\t', a)\n",
    "print('yield传入:')\n",
    "t = test_yield_input()\n",
    "next(t)  # 注意\n",
    "t.send('fu')\n",
    "t.send('bin')\n",
    "t.send('stop')\n",
    "\n",
    "# with上下文管理器：如文件、锁等，不是任何数据类型都能放在这里\n",
    "with open('./pig/1.png','rb') as file1, open('./pig/1.png', 'rb') as file2:\n",
    "    print('\\t', 'with: open two file as the context manager!')\n",
    "    pass\n",
    "\n",
    "# for...else语法糖\n",
    "print('for...else语法糖:')\n",
    "for _ in range(3):\n",
    "    print('\\t', _)\n",
    "else:\n",
    "    print('\\t', 'else')\n",
    "\n",
    "# 函数注解：\n",
    "def fibonacci(a: int,b:int) -> int:\n",
    "    pass\n",
    "print('函数注解:', fibonacci.__annotations__)\n",
    "\n",
    "# "
   ]
  },
  {
   "cell_type": "code",
   "execution_count": 20,
   "id": "72b0d5db1f3b377c",
   "metadata": {
    "ExecuteTime": {
     "end_time": "2023-08-18T03:09:28.675055600Z",
     "start_time": "2023-08-18T03:09:28.471938700Z"
    }
   },
   "outputs": [
    {
     "name": "stdout",
     "output_type": "stream",
     "text": [
      "this is static method! (1,)\n",
      "this is static method! ([1, 2],)\n",
      "this is a class method! {'a': 1, 'b': 2} fb\n",
      "<property object at 0x0000022C7BDD60E0>\n",
      "fb\n"
     ]
    }
   ],
   "source": [
    "# 装饰器\n",
    "\n",
    "# *args： 以元组形式导入参数\n",
    "# **args: 以字典形式导入参数\n",
    "\n",
    "# 1.@staticmethod: 静态方法，不需要访问实例的属性或函数。\n",
    "# 2.@classmethod: 静态方法，可访问实例的属性或函数。\n",
    "# 3.@property: 保护私有属性，将方法函数封装为属性来使用。\n",
    "class MyClass():\n",
    "    name = 'fb'\n",
    "    @staticmethod\n",
    "    def static_print(*x):\n",
    "        print('this is static method!',x)\n",
    "    @classmethod\n",
    "    def class_method(cls,**x): # cls 表示类本身\n",
    "        print('this is a class method!',x, cls.name)\n",
    "    @property\n",
    "    def person_name(cls):\n",
    "        return cls.name\n",
    "\n",
    "MyClass.static_print(1)\n",
    "MyClass.static_print([1,2])\n",
    "MyClass.class_method(a=1,b=2)\n",
    "print(MyClass.person_name)\n",
    "mc = MyClass()\n",
    "print(mc.person_name)"
   ]
  },
  {
   "cell_type": "code",
   "execution_count": 4,
   "id": "609df9a3",
   "metadata": {
    "ExecuteTime": {
     "end_time": "2023-08-18T02:49:37.564976600Z",
     "start_time": "2023-08-18T02:49:37.533697500Z"
    }
   },
   "outputs": [
    {
     "name": "stdout",
     "output_type": "stream",
     "text": [
      "B2\n"
     ]
    }
   ],
   "source": [
    "# 类继承: A -> B1, B2 -> MyClass，单调继承\n",
    "# MRO，队列优先级，参数最左继承、祖先最近继承\n",
    "\n",
    "class A:\n",
    "    def method(self):\n",
    "        print('A')\n",
    "class B1(A):\n",
    "    # 1,2,4\n",
    "    def method(self):\n",
    "        print('B1')\n",
    "    # 3\n",
    "    # pass\n",
    "class B2(A):\n",
    "    def method(self):\n",
    "        print('B2')\n",
    "# class MyClass(A, B1, B2): # 1.报错，Cannot create a consistent method resolution order (MRO) for bases A, B1, B2\n",
    "# class MyClass(B1, B2): # 2.B1\n",
    "# class MyClass(B1, B2): # 3.B2\n",
    "class MyClass(B2, B1): # 4.B2\n",
    "    pass\n",
    "MyClass().method()\n"
   ]
  },
  {
   "cell_type": "code",
   "execution_count": 68,
   "id": "441d43fb7ea4523f",
   "metadata": {
    "ExecuteTime": {
     "end_time": "2023-08-18T06:11:31.776839600Z",
     "start_time": "2023-08-18T06:11:31.761216700Z"
    }
   },
   "outputs": [
    {
     "name": "stdout",
     "output_type": "stream",
     "text": [
      "<class 'type'>\n",
      "MyClass\tB1\tA\tB2\tA\t\n",
      "(<class '__main__.MyClass'>, <class '__main__.B1'>, <class '__main__.B2'>, <class '__main__.A'>, <class 'object'>)\n",
      "B1\tA\t"
     ]
    }
   ],
   "source": [
    "# 类继承: super用法\n",
    "\n",
    "print(type(super))\n",
    "# super()：建立一个对象\n",
    "\n",
    "class A:\n",
    "    def __init__(self):\n",
    "        print('A', end='\\t')\n",
    "        super().__init__() # 无self\n",
    "class B1(A):\n",
    "    def __init__(self):\n",
    "        print('B1', end='\\t')\n",
    "        # 1.有self，但未来可能改变基类的名字从而感觉不灵活， 结果为MyClass\tB1\tA\tB2\tA\n",
    "        A.__init__(self)\n",
    "        # 2.结果为：MyClass\tB1\tB2\tA\tB2\tA\n",
    "        # super().__init__()\n",
    "        # 3.结果为：MyClass\tB1\tB2\tA\tB2\tA，慎用\n",
    "        # super(B1, self).__init__()\n",
    "class B2(A):\n",
    "    def __init__(self):\n",
    "        print('B2', end='\\t')\n",
    "        # 1.有self，但未来可能改变基类的名字从而感觉不灵活， 结果为MyClass\tB1\tA\tB2\tA\n",
    "        A.__init__(self)\n",
    "        # 2.结果为：MyClass\tB1\tB2\tA\tB2\tA\n",
    "        # super().__init__() \n",
    "        # 3.结果为：MyClass\tB1\tB2\tA\tB2\tA，慎用\n",
    "        # super(B2, self).__init__()\n",
    "class MyClass(B1,B2):\n",
    "    def __init__(self):\n",
    "        print('MyClass', end='\\t')\n",
    "        B1.__init__(self) # 有self， B1\tB2\tA\n",
    "        B2.__init__(self) # 有self， B2\tA\n",
    "mc = MyClass()\n",
    "print('')\n",
    "print(MyClass.__mro__)\n",
    "# (<class '__main__.MyClass'>, <class '__main__.B1'>, <class '__main__.B2'>, <class '__main__.A'>, <class 'object'>)\n",
    "# (<class '__main__.MyClass'>, <class '__main__.B1'>, <class '__main__.B2'>, <class '__main__.A'>, <class 'object'>)\n",
    "\n",
    "# 这种可以拿出来，但需要实例作为参数\n",
    "super(MyClass, mc).__init__()\n",
    "# B1\tA"
   ]
  },
  {
   "cell_type": "code",
   "execution_count": 21,
   "id": "904d7a7bf8c08195",
   "metadata": {
    "ExecuteTime": {
     "end_time": "2023-08-18T03:10:00.086340Z",
     "start_time": "2023-08-18T03:10:00.055085600Z"
    }
   },
   "outputs": [
    {
     "name": "stdout",
     "output_type": "stream",
     "text": [
      "['_MyClass__value', '__class__', '__delattr__', '__dict__', '__dir__', '__doc__', '__eq__', '__format__', '__ge__', '__getattribute__', '__gt__', '__hash__', '__init__', '__init_subclass__', '__le__', '__lt__', '__module__', '__ne__', '__new__', '__reduce__', '__reduce_ex__', '__repr__', '__setattr__', '__sizeof__', '__str__', '__subclasshook__', '__weakref__']\n",
      "False\n",
      "True\n"
     ]
    }
   ],
   "source": [
    "# 类的私有属性：_弱私有（可访问），__强私有（不可访问，采用“_类名__名”来绕开访问）\n",
    "# 继承时候，非私有同名属性会被覆盖掉，私有属性不会被继承和覆盖\n",
    "\n",
    "class MyClass:\n",
    "    __value = 1 # 私有属性，前面至少两个下划线\n",
    "mc = MyClass()\n",
    "# print(mc.__value) # 访问报错，AttributeError: 'MyClass' object has no attribute '__value'\n",
    "print(dir(mc))\n",
    "print(hasattr(mc,'__value'))\n",
    "print(hasattr(mc,'_MyClass__value')) # python的私有属性仅仅避免错误使用，并不安全，在编译时才实现\n",
    "# 名称变成了_MyClass__value"
   ]
  },
  {
   "cell_type": "code",
   "execution_count": 24,
   "id": "c3d5c41ab8145d1c",
   "metadata": {
    "ExecuteTime": {
     "end_time": "2023-08-18T03:15:25.403519300Z",
     "start_time": "2023-08-18T03:15:25.184751300Z"
    }
   },
   "outputs": [
    {
     "name": "stdout",
     "output_type": "stream",
     "text": [
      "1\n"
     ]
    },
    {
     "ename": "AttributeError",
     "evalue": "'A' object has no attribute 'u'",
     "output_type": "error",
     "traceback": [
      "\u001B[1;31m---------------------------------------------------------------------------\u001B[0m",
      "\u001B[1;31mAttributeError\u001B[0m                            Traceback (most recent call last)",
      "\u001B[1;32m~\\AppData\\Local\\Temp\\ipykernel_1060\\1995153537.py\u001B[0m in \u001B[0;36m<module>\u001B[1;34m\u001B[0m\n\u001B[0;32m      6\u001B[0m \u001B[0ma\u001B[0m\u001B[1;33m.\u001B[0m\u001B[0mf\u001B[0m \u001B[1;33m=\u001B[0m \u001B[1;36m1\u001B[0m\u001B[1;33m\u001B[0m\u001B[1;33m\u001B[0m\u001B[0m\n\u001B[0;32m      7\u001B[0m \u001B[0mprint\u001B[0m\u001B[1;33m(\u001B[0m\u001B[0ma\u001B[0m\u001B[1;33m.\u001B[0m\u001B[0mf\u001B[0m\u001B[1;33m)\u001B[0m\u001B[1;33m\u001B[0m\u001B[1;33m\u001B[0m\u001B[0m\n\u001B[1;32m----> 8\u001B[1;33m \u001B[0ma\u001B[0m\u001B[1;33m.\u001B[0m\u001B[0mu\u001B[0m \u001B[1;33m=\u001B[0m \u001B[1;36m2\u001B[0m \u001B[1;31m# 报错\u001B[0m\u001B[1;33m\u001B[0m\u001B[1;33m\u001B[0m\u001B[0m\n\u001B[0m\u001B[0;32m      9\u001B[0m \u001B[1;33m\u001B[0m\u001B[0m\n",
      "\u001B[1;31mAttributeError\u001B[0m: 'A' object has no attribute 'u'"
     ]
    }
   ],
   "source": [
    "# 类的__slots__：限制属性的名字和个数，更快且更节省内存\n",
    "\n",
    "class A:\n",
    "    __slots__ = ('f', 'b')\n",
    "a = A()\n",
    "a.f = 1\n",
    "print(a.f)\n",
    "a.u = 2 # 报错，不能新加属性u\n",
    "# 对其操作要比普通属性更快更节省内存，特别是很频繁的操作"
   ]
  },
  {
   "cell_type": "code",
   "execution_count": 105,
   "id": "ebf0948661056c75",
   "metadata": {
    "ExecuteTime": {
     "end_time": "2023-08-18T08:34:12.862035300Z",
     "start_time": "2023-08-18T08:34:12.815160400Z"
    }
   },
   "outputs": [
    {
     "name": "stdout",
     "output_type": "stream",
     "text": [
      "方式一:\n",
      "\tnew: A () {'__module__': '__main__', '__qualname__': 'A'}\n",
      "\tinit: A () {'__module__': '__main__', '__qualname__': 'A'}\n",
      "方式二:\n",
      "\tnew: A () {}\n",
      "\tinit: A () {}\n",
      "\tcall:\n",
      "方式三:\n",
      "{'name': 'fb', 'fun': <function fun at 0x0000022C7AC2F5E0>, '__module__': '__main__', '__dict__': <attribute '__dict__' of 'A' objects>, '__weakref__': <attribute '__weakref__' of 'A' objects>, '__doc__': None}\n"
     ]
    }
   ],
   "source": [
    "# 元类 metaclass：定义类的类。现有的继承体系无法完成的事情可以考虑采用元类来完成\n",
    "# type -> class -> instance\n",
    "\n",
    "# 定义元类\n",
    "class MyClass(type):\n",
    "    def __new__(cls, name, bases, dict): # 定义类时调用\n",
    "        print('\\tnew:', name, bases, dict)\n",
    "        return type.__new__(cls, name, bases, dict)\n",
    "    def __init__(cls, name, bases, dict): # 定义类时调用\n",
    "        print('\\tinit:', name, bases, dict)\n",
    "        return type.__init__(cls, name, bases, dict)\n",
    "    def __call__(cls, *args, **kwargs): # 实例化时调用\n",
    "        print('\\tcall:')\n",
    "        return type.__call__(cls, *args, **kwargs)\n",
    "\n",
    "# 构建\n",
    "# 方式一\n",
    "print('方式一:')\n",
    "class A(metaclass=MyClass):\n",
    "    pass\n",
    "# 方式二\n",
    "print('方式二:')\n",
    "A = MyClass('A',(),{})\n",
    "a = A() # 实例化\n",
    "# 方式三\n",
    "print('方式三:')\n",
    "def fun(self):\n",
    "    print(1)\n",
    "A = type('A',(),{'name':'fb','fun':fun})\n",
    "print(A.__dict__)"
   ]
  },
  {
   "cell_type": "code",
   "execution_count": 41,
   "id": "3b4448da231d6d5a",
   "metadata": {
    "ExecuteTime": {
     "end_time": "2023-08-18T05:16:24.208685700Z",
     "start_time": "2023-08-18T05:16:24.193049500Z"
    }
   },
   "outputs": [
    {
     "name": "stdout",
     "output_type": "stream",
     "text": [
      "1\n",
      "2\n",
      "3\n"
     ]
    }
   ],
   "source": [
    "# if 当真条件\n",
    "\n",
    "a = True\n",
    "if a is True: # 很严格，必须本身就是True\n",
    "    print(1)\n",
    "if a == True: # 等价上面\n",
    "    print(2)\n",
    "if [1]: # 各种python数据类型不同，非0/非None/len不等于0等\n",
    "    print(3)\n",
    "if bool(''): # 转bool类型\n",
    "    print(4)\n"
   ]
  },
  {
   "cell_type": "code",
   "execution_count": 48,
   "id": "5c72b10e7e96c207",
   "metadata": {
    "ExecuteTime": {
     "end_time": "2023-08-18T05:35:14.443837800Z",
     "start_time": "2023-08-18T05:35:14.146949100Z"
    }
   },
   "outputs": [
    {
     "name": "stdout",
     "output_type": "stream",
     "text": [
      "hello, bin!\n",
      "{'y': 11}\n",
      "[3, 3, 3]\n",
      "<code object <module> at 0x0000022C7BDDE450, file \"\", line 1>\n",
      "1\n",
      "2\n",
      "3\n",
      "<code object <module> at 0x0000022C7BDDEBE0, file \"\", line 1>\n"
     ]
    },
    {
     "data": {
      "text/plain": [
       "[3, 1, 3, 1]"
      ]
     },
     "execution_count": 48,
     "metadata": {},
     "output_type": "execute_result"
    }
   ],
   "source": [
    "# python执行代码str块\n",
    "# python代码编译顺序： python代码  -(parse)>  AST抽象语法树  -(compile)>  byte code 字节码\n",
    "\n",
    "# 1.exec执行语句\n",
    "exec(\"print('hello, bin!')\")\n",
    "local_dict = {}\n",
    "exec(\"y = x + 1\", {'x':10}, local_dict)\n",
    "print(local_dict)\n",
    "\n",
    "# 2.eval执行表达式\n",
    "result = eval(\" [3] * 3 \")\n",
    "print(result)\n",
    "\n",
    "# 3.compile: 编译python代码为字节\n",
    "c = compile(\"for i in range(3): print(i+1)\", '', 'exec')\n",
    "print(c)\n",
    "exec(c)\n",
    "c = compile(\"[3,1] * 2\", '', 'eval')\n",
    "print(c)\n",
    "eval(c)"
   ]
  },
  {
   "cell_type": "code",
   "execution_count": 85,
   "id": "d90726997afd3513",
   "metadata": {
    "ExecuteTime": {
     "end_time": "2023-08-18T06:57:57.992127400Z",
     "start_time": "2023-08-18T06:57:57.929656Z"
    }
   },
   "outputs": [
    {
     "name": "stdout",
     "output_type": "stream",
     "text": [
      "func start! (3,)\n",
      "func start! (2,)\n",
      "func start! (1,)\n",
      "func end! (1,)\n",
      "func start! (0,)\n",
      "func end! (0,)\n",
      "func end! (2,)\n",
      "func start! (1,)\n",
      "func end! (1,)\n",
      "func end! (3,)\n"
     ]
    },
    {
     "data": {
      "text/plain": [
       "3"
      ]
     },
     "execution_count": 85,
     "metadata": {},
     "output_type": "execute_result"
    }
   ],
   "source": [
    "# 装饰器\n",
    "# 将一个函数装饰包裹，每次调用时执行装饰器中的前置和后置语句\n",
    "# 用来理解递归\n",
    "\n",
    "# 方式一：\n",
    "def log_trace(func):\n",
    "    def wrapper(*args, **kwargs):\n",
    "        print('func start!', args)\n",
    "        result = func(*args, **kwargs)\n",
    "        print('func end!', args)\n",
    "        return result\n",
    "    return wrapper # 重要\n",
    "class Decorators:\n",
    "    @staticmethod\n",
    "    def log_trace(func):\n",
    "        def wrapper(*args, **kwargs):\n",
    "            print('func start!', args)\n",
    "            result = func(*args, **kwargs)\n",
    "            print('func end!', args)\n",
    "            return result\n",
    "        return wrapper # 重要\n",
    "\n",
    "# 方式一:\n",
    "# @log_trace\n",
    "# 方式二:\n",
    "@Decorators.log_trace\n",
    "def fibonacci(n):\n",
    "    if n==0:\n",
    "        return 1\n",
    "    elif n==1:\n",
    "        return 1\n",
    "    return fibonacci(n-1) + fibonacci(n-2)\n",
    "\n",
    "# print(fibonacci(3))\n",
    "fibonacci(3)"
   ]
  },
  {
   "cell_type": "code",
   "execution_count": 86,
   "id": "1385857f968e4c2f",
   "metadata": {
    "ExecuteTime": {
     "end_time": "2023-08-18T07:57:23.497036Z",
     "start_time": "2023-08-18T07:57:23.434535200Z"
    }
   },
   "outputs": [
    {
     "name": "stdout",
     "output_type": "stream",
     "text": [
      "start func (3, 4)\n",
      "end func (3, 4)\n"
     ]
    },
    {
     "data": {
      "text/plain": [
       "7"
      ]
     },
     "execution_count": 86,
     "metadata": {},
     "output_type": "execute_result"
    }
   ],
   "source": [
    "# 装饰器类：类是装饰器，用类给函数做装饰器\n",
    "\n",
    "class Decorator:\n",
    "    def __init__(self, func):\n",
    "        self.func = func\n",
    "    def __call__(self, *args, **kwargs):\n",
    "        print('start func', args)\n",
    "        result = self.func(*args, **kwargs)\n",
    "        print('end func', args)\n",
    "        return result\n",
    "# \n",
    "@Decorator\n",
    "def f(a, b):\n",
    "    return a + b\n",
    "f(3,4)"
   ]
  },
  {
   "cell_type": "code",
   "execution_count": 90,
   "id": "85866fde53357454",
   "metadata": {
    "ExecuteTime": {
     "end_time": "2023-08-18T08:09:33.903983900Z",
     "start_time": "2023-08-18T08:09:33.841486300Z"
    }
   },
   "outputs": [
    {
     "name": "stdout",
     "output_type": "stream",
     "text": [
      "{'a': 2, 'b': 3}\n"
     ]
    }
   ],
   "source": [
    "# 类装饰器：用函数给类做装饰器\n",
    "\n",
    "def f(cls):\n",
    "    def __str__(self): # self保证类的对象本身\n",
    "        return str(self.__dict__)\n",
    "    cls.__str__ = __str__ # 函数替换\n",
    "    return cls\n",
    "@f\n",
    "class MyClass:\n",
    "    def __init__(self,a,b):\n",
    "        self.a = a\n",
    "        self.b = b\n",
    "mc = MyClass(2,3)\n",
    "print(mc)"
   ]
  },
  {
   "cell_type": "code",
   "execution_count": null,
   "id": "5f2a2db0f5a2cdf6",
   "metadata": {},
   "outputs": [],
   "source": [
    "# descriptor 就是instance.attribute，本质是调用__get__和__set__\n"
   ]
  },
  {
   "cell_type": "code",
   "execution_count": 103,
   "id": "3c7113ec475f2ba9",
   "metadata": {
    "ExecuteTime": {
     "end_time": "2023-08-18T08:23:29.193249700Z",
     "start_time": "2023-08-18T08:23:28.865141100Z"
    }
   },
   "outputs": [
    {
     "name": "stdout",
     "output_type": "stream",
     "text": [
      "1 <generator object gen at 0x0000022C7BE509E0>\n",
      "2 10\n",
      "3 10\n",
      "2 9\n",
      "3 9\n",
      "2 8\n",
      "3 8\n",
      "2 7\n",
      "3 2\n",
      "2 1\n",
      "3 1\n"
     ]
    },
    {
     "ename": "StopIteration",
     "evalue": "",
     "output_type": "error",
     "traceback": [
      "\u001B[1;31m---------------------------------------------------------------------------\u001B[0m",
      "\u001B[1;31mStopIteration\u001B[0m                             Traceback (most recent call last)",
      "\u001B[1;32m~\\AppData\\Local\\Temp\\ipykernel_1060\\3752152738.py\u001B[0m in \u001B[0;36m<module>\u001B[1;34m\u001B[0m\n\u001B[0;32m     15\u001B[0m         \u001B[0mv\u001B[0m \u001B[1;33m=\u001B[0m \u001B[0mg\u001B[0m\u001B[1;33m.\u001B[0m\u001B[0msend\u001B[0m\u001B[1;33m(\u001B[0m\u001B[1;36m3\u001B[0m\u001B[1;33m)\u001B[0m\u001B[1;33m\u001B[0m\u001B[1;33m\u001B[0m\u001B[0m\n\u001B[0;32m     16\u001B[0m     \u001B[0mprint\u001B[0m\u001B[1;33m(\u001B[0m\u001B[1;36m3\u001B[0m\u001B[1;33m,\u001B[0m\u001B[0mv\u001B[0m\u001B[1;33m)\u001B[0m\u001B[1;33m\u001B[0m\u001B[1;33m\u001B[0m\u001B[0m\n\u001B[1;32m---> 17\u001B[1;33m     \u001B[0mv\u001B[0m \u001B[1;33m=\u001B[0m \u001B[0mnext\u001B[0m\u001B[1;33m(\u001B[0m\u001B[0mg\u001B[0m\u001B[1;33m)\u001B[0m\u001B[1;33m\u001B[0m\u001B[1;33m\u001B[0m\u001B[0m\n\u001B[0m",
      "\u001B[1;31mStopIteration\u001B[0m: "
     ]
    }
   ],
   "source": [
    "# 生成器：yield和next\n",
    "\n",
    "def gen(n):\n",
    "    while n>0:\n",
    "        tmp = yield n\n",
    "        if tmp is not None:\n",
    "            n = tmp\n",
    "        n -= 1\n",
    "g = gen(10) # 还没有往下走\n",
    "print(1,g)\n",
    "v = next(g)\n",
    "while v:\n",
    "    print(2,v)\n",
    "    if v==7:\n",
    "        v = g.send(3) # 已经往下走了\n",
    "    print(3,v)\n",
    "    v = next(g)"
   ]
  },
  {
   "cell_type": "code",
   "execution_count": 109,
   "id": "61618e4a02cdf72f",
   "metadata": {
    "ExecuteTime": {
     "end_time": "2023-08-18T08:50:59.109852600Z",
     "start_time": "2023-08-18T08:50:58.828612400Z"
    }
   },
   "outputs": [
    {
     "name": "stdout",
     "output_type": "stream",
     "text": [
      "FB\n",
      "121\n"
     ]
    },
    {
     "ename": "AttributeError",
     "evalue": "'A' object has no attribute 'name'",
     "output_type": "error",
     "traceback": [
      "\u001B[1;31m---------------------------------------------------------------------------\u001B[0m",
      "\u001B[1;31mAttributeError\u001B[0m                            Traceback (most recent call last)",
      "\u001B[1;32m~\\AppData\\Local\\Temp\\ipykernel_1060\\4084266343.py\u001B[0m in \u001B[0;36m<module>\u001B[1;34m\u001B[0m\n\u001B[0;32m     13\u001B[0m \u001B[0mb\u001B[0m\u001B[1;33m.\u001B[0m\u001B[0mf\u001B[0m\u001B[1;33m(\u001B[0m\u001B[0mb\u001B[0m\u001B[1;33m,\u001B[0m\u001B[1;34m'121'\u001B[0m\u001B[1;33m)\u001B[0m\u001B[1;33m\u001B[0m\u001B[1;33m\u001B[0m\u001B[0m\n\u001B[0;32m     14\u001B[0m \u001B[0ma\u001B[0m \u001B[1;33m=\u001B[0m \u001B[0mA\u001B[0m\u001B[1;33m(\u001B[0m\u001B[1;33m)\u001B[0m\u001B[1;33m\u001B[0m\u001B[1;33m\u001B[0m\u001B[0m\n\u001B[1;32m---> 15\u001B[1;33m \u001B[0mb\u001B[0m\u001B[1;33m.\u001B[0m\u001B[0mf\u001B[0m\u001B[1;33m(\u001B[0m\u001B[0ma\u001B[0m\u001B[1;33m,\u001B[0m \u001B[1;34m'131'\u001B[0m\u001B[1;33m)\u001B[0m\u001B[1;33m\u001B[0m\u001B[1;33m\u001B[0m\u001B[0m\n\u001B[0m\u001B[0;32m     16\u001B[0m \u001B[1;33m\u001B[0m\u001B[0m\n",
      "\u001B[1;32m~\\AppData\\Local\\Temp\\ipykernel_1060\\4084266343.py\u001B[0m in \u001B[0;36mf\u001B[1;34m(self, data)\u001B[0m\n\u001B[0;32m      3\u001B[0m     \u001B[1;32mdef\u001B[0m \u001B[0m__get__\u001B[0m\u001B[1;33m(\u001B[0m\u001B[0mself\u001B[0m\u001B[1;33m,\u001B[0m \u001B[1;33m*\u001B[0m\u001B[0margs\u001B[0m\u001B[1;33m)\u001B[0m\u001B[1;33m:\u001B[0m\u001B[1;33m\u001B[0m\u001B[1;33m\u001B[0m\u001B[0m\n\u001B[0;32m      4\u001B[0m         \u001B[1;32mdef\u001B[0m \u001B[0mf\u001B[0m\u001B[1;33m(\u001B[0m\u001B[0mself\u001B[0m\u001B[1;33m,\u001B[0m \u001B[0mdata\u001B[0m\u001B[1;33m)\u001B[0m\u001B[1;33m:\u001B[0m\u001B[1;33m\u001B[0m\u001B[1;33m\u001B[0m\u001B[0m\n\u001B[1;32m----> 5\u001B[1;33m             \u001B[0mprint\u001B[0m\u001B[1;33m(\u001B[0m\u001B[0mself\u001B[0m\u001B[1;33m.\u001B[0m\u001B[0mname\u001B[0m\u001B[1;33m)\u001B[0m\u001B[1;33m\u001B[0m\u001B[1;33m\u001B[0m\u001B[0m\n\u001B[0m\u001B[0;32m      6\u001B[0m             \u001B[0mprint\u001B[0m\u001B[1;33m(\u001B[0m\u001B[0mdata\u001B[0m\u001B[1;33m)\u001B[0m\u001B[1;33m\u001B[0m\u001B[1;33m\u001B[0m\u001B[0m\n\u001B[0;32m      7\u001B[0m         \u001B[1;32mreturn\u001B[0m \u001B[0mf\u001B[0m\u001B[1;33m\u001B[0m\u001B[1;33m\u001B[0m\u001B[0m\n",
      "\u001B[1;31mAttributeError\u001B[0m: 'A' object has no attribute 'name'"
     ]
    }
   ],
   "source": [
    "# self用法\n",
    "\n",
    "class A:\n",
    "    def __get__(self, *args):\n",
    "        def f(self, data):\n",
    "            print(self.name)\n",
    "            print(data)\n",
    "        return f\n",
    "class B:\n",
    "    f = A() # 只是个函数\n",
    "b = B()\n",
    "b.name = 'FB'\n",
    "# b.f('111') # TypeError: f() missing 1 required positional argument: 'data'\n",
    "b.f(b,'121')\n",
    "# a = A()\n",
    "# b.f(a, '131') # AttributeError: 'A' object has no attribute 'name'\n"
   ]
  },
  {
   "cell_type": "code",
   "execution_count": 123,
   "id": "4050fd88e25ed4cf",
   "metadata": {
    "ExecuteTime": {
     "end_time": "2023-08-18T09:04:50.528961100Z",
     "start_time": "2023-08-18T09:04:50.497712600Z"
    }
   },
   "outputs": [
    {
     "name": "stdout",
     "output_type": "stream",
     "text": [
      "1 0\n",
      "2 1\n",
      "3 1\n"
     ]
    }
   ],
   "source": [
    "# 全局变量、闭包变量和局部变量\n",
    "# 编译时候，默认变量是局部变量，故在局部中寻找该变量\n",
    "\n",
    "# 1.全局变量在局部声明\n",
    "count = 0\n",
    "def f():\n",
    "    global count # 不要这行会报错，语法检查就不过关，需要声明为全局变量\n",
    "    print(1,count)\n",
    "    count = count +1\n",
    "f()\n",
    "\n",
    "# 2.局部同名变量（与闭包外层变量同名）\n",
    "def g():\n",
    "    count = 0\n",
    "    def f(): # 局部同名变量不影响闭包外层变量\n",
    "        # global count # 不管用，因为g函数中count变量不是全局变量，而是闭包外层的变量\n",
    "        nonlocal count # 管用\n",
    "        count = 1\n",
    "    f()\n",
    "    print(2,count)\n",
    "g()\n",
    "\n",
    "# 3.局部同名变量（与全局变量同名）\n",
    "count = 0\n",
    "def g():\n",
    "    def f(): # 局部同名变量不影响全局变量\n",
    "        global count # 管用\n",
    "        # nonlocal count # 报错\n",
    "        count = 1\n",
    "    f()\n",
    "    print(3,count)\n",
    "g()\n",
    "\n",
    "# 同名 -> nonlocal -> global"
   ]
  },
  {
   "cell_type": "code",
   "execution_count": null,
   "id": "150933cc47363f93",
   "metadata": {},
   "outputs": [],
   "source": [
    "# python的五种退出实现\n",
    "\n",
    "import sys, os\n",
    "\n",
    "quit()\n",
    "exit()\n",
    "sys.exit(0) # 状态码一般用来判断是否正常退出, 0通常表示正常\n",
    "os._exit(1)\n",
    "raise SystemExit\n"
   ]
  },
  {
   "cell_type": "code",
   "execution_count": 128,
   "id": "a06cb068e734c146",
   "metadata": {
    "ExecuteTime": {
     "end_time": "2023-08-18T09:30:16.662585400Z",
     "start_time": "2023-08-18T09:30:16.600088600Z"
    }
   },
   "outputs": [
    {
     "name": "stdout",
     "output_type": "stream",
     "text": [
      "[] 2390080469504 1 2389962352944\n",
      "[1] 2390080469504 1 2389962352944\n"
     ]
    },
    {
     "ename": "TypeError",
     "evalue": "'tuple' object does not support item assignment",
     "output_type": "error",
     "traceback": [
      "\u001B[1;31m---------------------------------------------------------------------------\u001B[0m",
      "\u001B[1;31mTypeError\u001B[0m                                 Traceback (most recent call last)",
      "\u001B[1;32m~\\AppData\\Local\\Temp\\ipykernel_1060\\496589591.py\u001B[0m in \u001B[0;36m<module>\u001B[1;34m\u001B[0m\n\u001B[0;32m     16\u001B[0m \u001B[0madd_num\u001B[0m\u001B[1;33m(\u001B[0m\u001B[0mi\u001B[0m\u001B[1;33m)\u001B[0m\u001B[1;33m\u001B[0m\u001B[1;33m\u001B[0m\u001B[0m\n\u001B[0;32m     17\u001B[0m \u001B[0mprint\u001B[0m\u001B[1;33m(\u001B[0m\u001B[0ml\u001B[0m\u001B[1;33m,\u001B[0m \u001B[0mid\u001B[0m\u001B[1;33m(\u001B[0m\u001B[0ml\u001B[0m\u001B[1;33m)\u001B[0m\u001B[1;33m,\u001B[0m \u001B[0mi\u001B[0m\u001B[1;33m,\u001B[0m \u001B[0mid\u001B[0m\u001B[1;33m(\u001B[0m\u001B[0mi\u001B[0m\u001B[1;33m)\u001B[0m\u001B[1;33m)\u001B[0m\u001B[1;33m\u001B[0m\u001B[1;33m\u001B[0m\u001B[0m\n\u001B[1;32m---> 18\u001B[1;33m \u001B[0mt\u001B[0m\u001B[1;33m[\u001B[0m\u001B[1;36m0\u001B[0m\u001B[1;33m]\u001B[0m \u001B[1;33m=\u001B[0m \u001B[1;36m10\u001B[0m\u001B[1;33m\u001B[0m\u001B[1;33m\u001B[0m\u001B[0m\n\u001B[0m",
      "\u001B[1;31mTypeError\u001B[0m: 'tuple' object does not support item assignment"
     ]
    }
   ],
   "source": [
    "# mutable 可变的 和 immutable 不可变的\n",
    "# internal state 内部状态是否可改变\n",
    "\n",
    "l = [] # mutable\n",
    "i = 1 # immutable\n",
    "t = (1,2) # immutable\n",
    "\n",
    "print(l, id(l), i, id(i))\n",
    "\n",
    "# += 针对不同对象采取其对应的操作实现\n",
    "def add_list(lst):\n",
    "    lst += [1]\n",
    "def add_num(num):\n",
    "    num += 1\n",
    "add_list(l)\n",
    "add_num(i)\n",
    "print(l, id(l), i, id(i))\n",
    "t[0] = 10"
   ]
  },
  {
   "cell_type": "code",
   "execution_count": 26,
   "id": "28acd999b6201bf8",
   "metadata": {
    "ExecuteTime": {
     "end_time": "2023-08-18T09:51:26.664879500Z",
     "start_time": "2023-08-18T09:51:26.649279300Z"
    }
   },
   "outputs": [
    {
     "name": "stdout",
     "output_type": "stream",
     "text": [
      "f1: 1 2\n",
      "0 None\n",
      "11 3\n",
      "12 7.0\n",
      "13 None\n",
      "f1: 4 5\n",
      "2 [] None\n",
      "f1: 3 4\n",
      "man\n",
      "12\n"
     ]
    }
   ],
   "source": [
    "# type hint (python动态类型导致类型错误而创建的)\n",
    "# 非强制，仅仅作为注释给人看方便理解提高可读性，执行过程中不起任何作用\n",
    "# Any, int, str, list, dict, 类名 等\n",
    "\n",
    "# 0.函数没有返回时，实际上返回是None\n",
    "def f1(a,b):\n",
    "    print('f1:', a, b)\n",
    "    c = a + b\n",
    "d = f1(1,2)\n",
    "print(0, d)\n",
    "\n",
    "# 1.函数做注释\n",
    "from typing import Any, NoReturn, Callable, Literal, NewType\n",
    "class A:\n",
    "    name = 'A'\n",
    "def f2(a: int, b: int, a_: A, c: Any) -> int: # -> Any\n",
    "    return a + b\n",
    "def f3() -> NoReturn:\n",
    "    c = 1\n",
    "print(11, f2(1,2, A(), 90))\n",
    "print(12, f2(3.,4., A(), 'c'))\n",
    "print(13, f3())\n",
    "\n",
    "# 2.变量标注\n",
    "l: list = []\n",
    "i: int = f1(4,5)\n",
    "print(2, l, i)\n",
    "\n",
    "# 3.传入参数为函数时可标注可调用Callable。函数封装时候会用到需要给传入的函数参数标注Callable。\n",
    "# def f(fun: Callable): # 只告诉fun是可调用的\n",
    "def f(fun: Callable[int,int]): # 告诉fun是可调用的，且且参数为[int,int]\n",
    "    fun(3,4)\n",
    "f(f1)\n",
    "\n",
    "# 4.Literal 和 NewType: 可能被废弃了\n",
    "class People:\n",
    "    def __init__(self, gender: Literal[\"man\", \"woman\"]):\n",
    "        self.gender = gender\n",
    "# 重命名，降低代码繁杂而已\n",
    "GenderType = Literal[\"man\", \"woman\"]\n",
    "x: GenderType = 'man'\n",
    "# 或者\n",
    "GenderType = NewType('gender', int)\n",
    "x: Literal[\"man\", \"woman\"] = 'man'\n",
    "a = People(x)\n",
    "b = People('man1')\n",
    "def f(a: Literal[\"man\", \"woman\"]): # \n",
    "    print(a)\n",
    "f('man')\n",
    "f('12')"
   ]
  },
  {
   "cell_type": "code",
   "execution_count": 27,
   "id": "f175cc72a5d0d9bb",
   "metadata": {},
   "outputs": [
    {
     "name": "stdout",
     "output_type": "stream",
     "text": [
      "428\n"
     ]
    }
   ],
   "source": [
    "# 垃圾回收：unreachable对象数据进行回收\n",
    "import gc\n",
    "\n",
    "class MyClass:\n",
    "    def __init__(self):\n",
    "        self.name = 'fb'\n",
    "mc = MyClass()\n",
    "# 一般回收\n",
    "del mc\n",
    "# 强制回收：特别是存在循环引用。检查其链接列表。\n",
    "print(gc.collect())"
   ]
  },
  {
   "cell_type": "code",
   "execution_count": 30,
   "id": "46d2c39e",
   "metadata": {},
   "outputs": [
    {
     "name": "stdout",
     "output_type": "stream",
     "text": [
      "False\n",
      "True\n",
      "False\n",
      "False\n",
      "False\n",
      "True\n"
     ]
    }
   ],
   "source": [
    "# any和all\n",
    "\n",
    "# any\n",
    "print(any([0,0,0]))\n",
    "print(any([0,0,1]))\n",
    "# all\n",
    "print(all([0,0,0]))\n",
    "print(all([0,0,1]))\n",
    "print(all([0,1,1]))\n",
    "print(all([1,1,1]))"
   ]
  },
  {
   "cell_type": "code",
   "execution_count": 31,
   "id": "acbed439",
   "metadata": {},
   "outputs": [
    {
     "name": "stdout",
     "output_type": "stream",
     "text": [
      "0.027134875002957415\n"
     ]
    }
   ],
   "source": [
    "# timeit获取执行之间\n",
    "\n",
    "import timeit\n",
    "print(timeit.timeit('output = 10*5'))"
   ]
  },
  {
   "cell_type": "code",
   "execution_count": 36,
   "id": "477fe652",
   "metadata": {},
   "outputs": [
    {
     "name": "stdout",
     "output_type": "stream",
     "text": [
      "divide by 0\n",
      "1111\n"
     ]
    }
   ],
   "source": [
    "# 异常\n",
    "try:\n",
    "    a = 1./0\n",
    "except ZeroDivisionError:\n",
    "    print('divide by 0')\n",
    "finally:\n",
    "    print('1111')\n",
    "    # 释放资源"
   ]
  },
  {
   "cell_type": "code",
   "execution_count": 40,
   "id": "dc4dfebf",
   "metadata": {},
   "outputs": [
    {
     "name": "stdout",
     "output_type": "stream",
     "text": [
      "['/Users/fubin/Downloads/pytorch', '/Users/fubin/opt/anaconda3/lib/python39.zip', '/Users/fubin/opt/anaconda3/lib/python3.9', '/Users/fubin/opt/anaconda3/lib/python3.9/lib-dynload', '', '/Users/fubin/opt/anaconda3/lib/python3.9/site-packages', '/Users/fubin/opt/anaconda3/lib/python3.9/site-packages/aeosa']\n"
     ]
    }
   ],
   "source": [
    "# import \n",
    "\n",
    "# 1.首先从python自带的module寻找\n",
    "# 2.几个文件夹，sys.path\n",
    "# 优先从当前文件夹中查找\n",
    "# 命名冲突\n",
    "# import之后缓存起来，不会反复import，只import一遍\n",
    "\n",
    "import sys\n",
    "print(sys.path)\n",
    "\n",
    "from models.LSTM_MLP_AE import LSTM_MLP_AE\n"
   ]
  },
  {
   "cell_type": "code",
   "execution_count": 53,
   "id": "ee27920b",
   "metadata": {},
   "outputs": [
    {
     "name": "stdout",
     "output_type": "stream",
     "text": [
      "1\n",
      "0 3\n",
      "2\n",
      "0 None\n",
      "0 None\n"
     ]
    }
   ],
   "source": [
    "# atexit： 定义在正常程序终止时执行的多个退出函数\n",
    "\n",
    "import atexit\n",
    "\n",
    "# 实现方式一\n",
    "def f(x):\n",
    "    print(x)\n",
    "atexit.register(f, 'exiting')\n",
    "f(1)\n",
    "atexit.unregister(f)\n",
    "# cmd下python执行上述语句后执行exit()，打印了exiting\n",
    "\n",
    "# 实现方式二：装饰器\n",
    "@atexit.register\n",
    "def f(x):\n",
    "    print(x)\n",
    "atexit.unregister(f) # == 来比较\n",
    "# 有几个注册函数\n",
    "print(0, atexit._ncallbacks())\n",
    "f(2)\n",
    "print(0, atexit._clear())\n",
    "print(0, atexit._run_exitfuncs())\n",
    "\n"
   ]
  },
  {
   "cell_type": "code",
   "execution_count": 64,
   "id": "994519c2",
   "metadata": {},
   "outputs": [
    {
     "name": "stdout",
     "output_type": "stream",
     "text": [
      "{}\n"
     ]
    }
   ],
   "source": [
    "# 弱引用 weakref\n",
    "# 并不是每种数据类型都支持弱引用，对数字、字符串等弱引用没有用，因为到处用到了这些。自定义类可以考虑使用弱引用。\n",
    "\n",
    "import weakref\n",
    "\n",
    "wvd = weakref.WeakValueDictionary()\n",
    "\n",
    "class MyClass:\n",
    "    # 1.slots 不支持弱引用\n",
    "#     __slots__ = ['name'] # TypeError: cannot create weak reference to 'MyClass' object\n",
    "    # 2.slots 支持弱引用\n",
    "    __slots__ = ['name', '__weakref__']\n",
    "    def __init__(self, name):\n",
    "        self.name = name\n",
    "    pass\n",
    "\n",
    "def f():\n",
    "    wvd['1'] = MyClass('fu')\n",
    "    wvd['3'] = MyClass('bin')\n",
    "    \n",
    "f()\n",
    "print(dict(wvd))"
   ]
  },
  {
   "cell_type": "code",
   "execution_count": 11,
   "id": "605d066f",
   "metadata": {
    "ExecuteTime": {
     "end_time": "2023-08-19T01:23:51.854540Z",
     "start_time": "2023-08-19T01:23:51.851865Z"
    }
   },
   "outputs": [
    {
     "ename": "AssertionError",
     "evalue": "False is not true",
     "output_type": "error",
     "traceback": [
      "\u001B[0;31m---------------------------------------------------------------------------\u001B[0m",
      "\u001B[0;31mAssertionError\u001B[0m                            Traceback (most recent call last)",
      "Input \u001B[0;32mIn [11]\u001B[0m, in \u001B[0;36m<cell line: 28>\u001B[0;34m()\u001B[0m\n\u001B[1;32m     26\u001B[0m \u001B[38;5;66;03m# 执行方式一\u001B[39;00m\n\u001B[1;32m     27\u001B[0m at \u001B[38;5;241m=\u001B[39m AddTest()\n\u001B[0;32m---> 28\u001B[0m \u001B[43mat\u001B[49m\u001B[38;5;241;43m.\u001B[39;49m\u001B[43mtest_init\u001B[49m\u001B[43m(\u001B[49m\u001B[43m)\u001B[49m\n",
      "Input \u001B[0;32mIn [11]\u001B[0m, in \u001B[0;36mAddTest.test_init\u001B[0;34m(self)\u001B[0m\n\u001B[1;32m     22\u001B[0m \u001B[38;5;66;03m# self.assertNotEquals(Add.add(1,2), 1+2)\u001B[39;00m\n\u001B[1;32m     23\u001B[0m \u001B[38;5;28mself\u001B[39m\u001B[38;5;241m.\u001B[39massertIs(Add\u001B[38;5;241m.\u001B[39madd(\u001B[38;5;241m1\u001B[39m,\u001B[38;5;241m2\u001B[39m), \u001B[38;5;241m1\u001B[39m\u001B[38;5;241m+\u001B[39m\u001B[38;5;241m2\u001B[39m)\n\u001B[0;32m---> 24\u001B[0m \u001B[38;5;28;43mself\u001B[39;49m\u001B[38;5;241;43m.\u001B[39;49m\u001B[43massertTrue\u001B[49m\u001B[43m(\u001B[49m\u001B[43mAdd\u001B[49m\u001B[38;5;241;43m.\u001B[39;49m\u001B[43madd\u001B[49m\u001B[43m(\u001B[49m\u001B[38;5;241;43m1\u001B[39;49m\u001B[43m,\u001B[49m\u001B[38;5;241;43m2\u001B[39;49m\u001B[43m)\u001B[49m\u001B[43m \u001B[49m\u001B[38;5;241;43m!=\u001B[39;49m\u001B[43m \u001B[49m\u001B[38;5;241;43m1\u001B[39;49m\u001B[38;5;241;43m+\u001B[39;49m\u001B[38;5;241;43m2\u001B[39;49m\u001B[43m)\u001B[49m\n",
      "File \u001B[0;32m~/opt/anaconda3/lib/python3.9/unittest/case.py:688\u001B[0m, in \u001B[0;36mTestCase.assertTrue\u001B[0;34m(self, expr, msg)\u001B[0m\n\u001B[1;32m    686\u001B[0m \u001B[38;5;28;01mif\u001B[39;00m \u001B[38;5;129;01mnot\u001B[39;00m expr:\n\u001B[1;32m    687\u001B[0m     msg \u001B[38;5;241m=\u001B[39m \u001B[38;5;28mself\u001B[39m\u001B[38;5;241m.\u001B[39m_formatMessage(msg, \u001B[38;5;124m\"\u001B[39m\u001B[38;5;132;01m%s\u001B[39;00m\u001B[38;5;124m is not true\u001B[39m\u001B[38;5;124m\"\u001B[39m \u001B[38;5;241m%\u001B[39m safe_repr(expr))\n\u001B[0;32m--> 688\u001B[0m     \u001B[38;5;28;01mraise\u001B[39;00m \u001B[38;5;28mself\u001B[39m\u001B[38;5;241m.\u001B[39mfailureException(msg)\n",
      "\u001B[0;31mAssertionError\u001B[0m: False is not true"
     ]
    }
   ],
   "source": [
    "# 单元测试unittest\n",
    "\n",
    "import unittest, sys\n",
    "\n",
    "class Add:\n",
    "    @staticmethod\n",
    "    def add(v1, v2):\n",
    "        return v1 + v2\n",
    "\n",
    "class AddTest(unittest.TestCase):\n",
    "    # 可有可无，开始时执行\n",
    "    def setUp(self) -> None:\n",
    "        print('setup')\n",
    "    # 可有可无，结束时执行\n",
    "    def tearDown(self) -> None:\n",
    "        print('teardown')\n",
    "    # 必须要实现\n",
    "    # 判断在某些操作系统下不执行\n",
    "    @unittest.skipIf(sys.platform=='win32' or sys.version_info < (3,7), 'Do not support windows or the version of python is lower than 3.7!')\n",
    "    def test_init(self):\n",
    "        self.assertEqual(Add.add(1,2), 1+2)\n",
    "        # self.assertNotEquals(Add.add(1,2), 1+2)\n",
    "        self.assertIs(Add.add(1,2), 1+2)\n",
    "        self.assertTrue(Add.add(1,2) != 1+2)\n",
    "\n",
    "# 执行方式一\n",
    "at = AddTest()\n",
    "at.test_init()\n",
    "# 执行方式二\n",
    "# cmd下执行 python -m unittest，测试该文件\n",
    "# cmd下执行 python -m unittest 文件名.AddTest.test_init，测试该文件中某个函数\n",
    "# 上述中python -m 相当于import,叫做当做模块来启动"
   ]
  },
  {
   "cell_type": "code",
   "execution_count": null,
   "outputs": [],
   "source": [
    "# 测试的覆盖率\n",
    "# pip install coverage\n",
    "\n",
    "# 0.cmd下执行, cd test/目录下\n",
    "# coverage命令没找到，采用python3 -m coverage run -m命令\n",
    "\n",
    "# 1.python3 -m coverage run -m unittest test.py 执行代码覆盖测试\n",
    "# 生成报告结果文件.coverage\n",
    "\n",
    "# 2.python3 -m coverage report 查看测试报告\n",
    "# Name      Stmts   Miss  Cover\n",
    "# -----------------------------\n",
    "# test.py      17      2    88%\n",
    "# -----------------------------\n",
    "# TOTAL        17      2    88%\n",
    "\n",
    "# 3.python3 -m coverage report -m 查看具体测试报告：哪些行没有覆盖测试\n",
    "# Name      Stmts   Miss  Cover   Missing\n",
    "# ---------------------------------------\n",
    "# test.py      17      2    88%   11, 14\n",
    "# ---------------------------------------\n",
    "# TOTAL        17      2    88%\n",
    "\n",
    "# 4.网页版查看：\n",
    "# 生成网页版结果报告：python3 -m coverage html\n",
    "# 构建http服务：python3 -m http.server --directory htmlcov/\n",
    "# 浏览器打开：http://localhost:8000，结果如下：\n",
    "# Coverage report: 88% Show/hide keyboard shortcuts \n",
    "# coverage.py v7.3.0, created at 2023-08-19 11:36 +0800\n",
    "# Module\tstatements\tmissing\texcluded\tcoverage\n",
    "# test.py\t17\t2\t0\t88%\n",
    "# Total\t17\t2\t0\t88%\n",
    "# coverage.py v7.3.0, created at 2023-08-19 11:36 +0800\n",
    "\n",
    "# 5.默认情况下，coverage不会覆盖安装包import\n",
    "# 检测安装包和自己源代码\n",
    "# 5.1.python3 -m coverage run --source unittest(检测这个import包) -m unittest test.py 执行代码覆盖测试\n",
    "# setup\n",
    "# teardown\n",
    "# .\n",
    "# ----------------------------------------------------------------------\n",
    "# Ran 1 test in 0.000s\n",
    "# 5.2.python3 -m coverage report 查看报告\n",
    "# Name                                                              Stmts   Miss  Cover\n",
    "# -------------------------------------------------------------------------------------\n",
    "# /Users/fubin/opt/anaconda3/lib/python3.9/unittest/__init__.py        22      8    64%\n",
    "# /Users/fubin/opt/anaconda3/lib/python3.9/unittest/__main__.py         9      0   100%\n",
    "# /Users/fubin/opt/anaconda3/lib/python3.9/unittest/_log.py            46     46     0%\n",
    "# /Users/fubin/opt/anaconda3/lib/python3.9/unittest/async_case.py      99     99     0%\n",
    "# /Users/fubin/opt/anaconda3/lib/python3.9/unittest/case.py           764    511    33%\n",
    "# /Users/fubin/opt/anaconda3/lib/python3.9/unittest/loader.py         304    213    30%\n",
    "# /Users/fubin/opt/anaconda3/lib/python3.9/unittest/main.py           160     53    67%\n",
    "# /Users/fubin/opt/anaconda3/lib/python3.9/unittest/mock.py          1539   1539     0%\n",
    "# /Users/fubin/opt/anaconda3/lib/python3.9/unittest/result.py         148     83    44%\n",
    "# /Users/fubin/opt/anaconda3/lib/python3.9/unittest/runner.py         168     63    62%\n",
    "# /Users/fubin/opt/anaconda3/lib/python3.9/unittest/signals.py         48     34    29%\n",
    "# /Users/fubin/opt/anaconda3/lib/python3.9/unittest/suite.py          256    103    60%\n",
    "# /Users/fubin/opt/anaconda3/lib/python3.9/unittest/util.py           124    104    16%\n",
    "# -------------------------------------------------------------------------------------\n",
    "# TOTAL                                                              3687   2856    23%\n",
    "# 5.3.omit部分不检测\n",
    "# python3 -m coverage run --source unittest(检测这个import包) --omit --omit '/Users/fubin/opt/anaconda3/lib/python3.9/unittest/*' -m unittest test.py 执行代码覆盖测试,omit部分不检测\n",
    "# 5.4.还可以自定义配置文件.coveragerc\n",
    "# 5.5. # progma: no cover 标注测试跳过"
   ],
   "metadata": {
    "collapsed": false
   },
   "id": "2fdb6d09a6fdc6d0"
  },
  {
   "cell_type": "code",
   "execution_count": 12,
   "outputs": [
    {
     "name": "stdout",
     "output_type": "stream",
     "text": [
      "0\n",
      "1\n",
      "2\n",
      "3\n",
      "4\n",
      "5\n",
      "6\n",
      "7\n",
      "8\n",
      "9\n"
     ]
    }
   ],
   "source": [
    "# python 3.11 性能提升平均25%，相较于3.10\n",
    "\n",
    "# 1.内部调试\n",
    "# debugger: 1.暂停执行，2.查看状态\n",
    "# pdb命令(cmd下)\n",
    "\n",
    "for i in range(10):\n",
    "    if i==5:\n",
    "        # 增加断点\n",
    "        breakpoint() # cmd下进入(pdb)模式, p i 或者 print(i)，w调用栈，其他命令如l, ll, where, u,\n",
    "    #      n或者next 运行一行程序，s或者step 这一行发生了什么, retval 拿到函数返回结果\n",
    "    # util 10 表示往后执行10行, c 表示退出调试继续执行代码\n",
    "    print(i)\n",
    "\n",
    "# 2.外部调试\n",
    "# cmd下执行 python -m pdb 文件名.py 程序认为某些位置作为断点\n",
    "# (pdb)模式下：b 5表示第五行增加断点, break 当前位置增加断点, b class.func表示在某个类下某函数增加断点\n",
    "# 退出pdf模式：q 或者 quit，exit也可以\n",
    "# clear 1删除第一个断点，clear删除所有断点\n"
   ],
   "metadata": {
    "collapsed": false,
    "ExecuteTime": {
     "end_time": "2023-08-19T02:05:47.887759Z",
     "start_time": "2023-08-19T02:05:47.860706Z"
    }
   },
   "id": "9810d5e8c849cfa6"
  },
  {
   "cell_type": "code",
   "execution_count": null,
   "outputs": [],
   "source": [
    "# python exe打包，打包自动会将所有执行过程（含依赖包、自己写的import文件）全部打包了\n",
    "# 安装包：pip3 install pyinstaller\n",
    "\n",
    "# pip3 freeze > requirements.txt\n",
    "# pip3 install -r requirements.txt\n",
    "\n",
    "# app.py文件内容：\n",
    "# # utf-8\n",
    "# import os,sys\n",
    "# # 临时解压文件目录（可能会产生报错）\n",
    "# BASE_DIR = os.path.dirname(os.path.abspath(__file__))\n",
    "# print('这是一个打印系统!')\n",
    "# a = input('请输入内容:')\n",
    "# print('打印内容为：', a)\n",
    "# print(os.path.join(BASE_DIR, 'build'))\n",
    "# # 执行文件目录（正常用这个）\n",
    "# # sys.argv[0]也可能是相对路径\n",
    "# print(sys.argv[0])\n",
    "# # 这种是安全的\n",
    "# print(os.path.dirname(os.path.realpath(sys.argv[0])))\n",
    "\n",
    "# 执行pyinstaller报错\n",
    "# python3 pyinstaller --version\n",
    "# The 'pathlib' package is an obsolete backport of a standard library package and is incompatible with PyInstaller. Please remove this package (located in /Users/fubin/opt/anaconda3/lib/python3.9/site-packages) using\n",
    "#     conda remove\n",
    "# then try again.\n",
    "# 解决办法：https://blog.csdn.net/m0_45295337/article/details/131034052，因为conda安装的pathlib与pyinstaller冲突\n",
    "# 1.conda remove pathlib,    2.\n",
    "\n",
    "# 1.打包单个文件（可能存在路径问题）\n",
    "# pyinstaller -F app.py\n",
    "# pyinstaller -F app.py -n fubin # 加 重命名\n",
    "# pyinstaller -F app.py -n fubin -i fig.ico # 加 图片icon \n",
    "# 生成结果：文件夹dist为结果文件，文件夹build为中间结果，.spec文件为生成的配置文件\n",
    "\n",
    "# 2.打包多个文件：可以包含各种文件如配置文件\n",
    "# pyinstaller -D app.py\n"
   ],
   "metadata": {
    "collapsed": false
   },
   "id": "dc0fe86beaf25fd7"
  },
  {
   "cell_type": "code",
   "execution_count": 29,
   "outputs": [
    {
     "name": "stdout",
     "output_type": "stream",
     "text": [
      "<class 'models.LSTM_MLP_AE.Encoder'>\n"
     ]
    }
   ],
   "source": [
    "# 动态import\n",
    "\n",
    "# 1.静态导入\n",
    "# from test import app \n",
    "\n",
    "# 2.动态导入\n",
    "import importlib\n",
    "LSTM_MLP_AE = importlib.import_module('models.LSTM_MLP_AE')\n",
    "print(LSTM_MLP_AE.Encoder)\n",
    "# 1.所以这里一定要用绝对路径\n",
    "# 2.打包没有把动态导入的LSTM_MLP_AE包打包，需要手动在.spec文件添加该包，打包命令为 pyinstaller -F 文件名.spec"
   ],
   "metadata": {
    "collapsed": false,
    "ExecuteTime": {
     "end_time": "2023-08-19T07:44:47.203879Z",
     "start_time": "2023-08-19T07:44:47.187253Z"
    }
   },
   "id": "d041e15707428e88"
  },
  {
   "cell_type": "code",
   "execution_count": 2,
   "outputs": [
    {
     "name": "stdout",
     "output_type": "stream",
     "text": [
      "1\n"
     ]
    },
    {
     "ename": "AttributeError",
     "evalue": "'C' object has no attribute 'x'",
     "output_type": "error",
     "traceback": [
      "\u001B[0;31m---------------------------------------------------------------------------\u001B[0m",
      "\u001B[0;31mAttributeError\u001B[0m                            Traceback (most recent call last)",
      "Input \u001B[0;32mIn [2]\u001B[0m, in \u001B[0;36m<cell line: 14>\u001B[0;34m()\u001B[0m\n\u001B[1;32m     11\u001B[0m         \u001B[38;5;28;01mpass\u001B[39;00m\n\u001B[1;32m     13\u001B[0m \u001B[38;5;28mprint\u001B[39m(B()\u001B[38;5;241m.\u001B[39mx)\n\u001B[0;32m---> 14\u001B[0m \u001B[38;5;28mprint\u001B[39m(\u001B[43mC\u001B[49m\u001B[43m(\u001B[49m\u001B[43m)\u001B[49m\u001B[38;5;241;43m.\u001B[39;49m\u001B[43mx\u001B[49m)\n",
      "\u001B[0;31mAttributeError\u001B[0m: 'C' object has no attribute 'x'"
     ]
    }
   ],
   "source": [],
   "metadata": {
    "collapsed": false,
    "ExecuteTime": {
     "end_time": "2023-08-22T14:45:54.350833Z",
     "start_time": "2023-08-22T14:45:54.346399Z"
    }
   },
   "id": "7fc440c27bd33df1"
  }
 ],
 "metadata": {
  "kernelspec": {
   "display_name": "Python 3 (ipykernel)",
   "language": "python",
   "name": "python3"
  },
  "language_info": {
   "codemirror_mode": {
    "name": "ipython",
    "version": 3
   },
   "file_extension": ".py",
   "mimetype": "text/x-python",
   "name": "python",
   "nbconvert_exporter": "python",
   "pygments_lexer": "ipython3",
   "version": "3.9.13"
  }
 },
 "nbformat": 4,
 "nbformat_minor": 5
}
