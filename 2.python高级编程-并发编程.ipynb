{
 "cells": [
  {
   "cell_type": "code",
   "execution_count": 1,
   "id": "5ac9ec01ee00377b",
   "metadata": {
    "ExecuteTime": {
     "end_time": "2023-08-17T02:38:11.845930500Z",
     "start_time": "2023-08-17T02:38:11.814702300Z"
    }
   },
   "outputs": [],
   "source": [
    "# 1.python并发\n",
    "# 1.多线程，2.多进程，3.协程\n",
    "\n",
    "import threading\n",
    "import time\n",
    "from threading import Thread\n",
    "\n",
    "def task(seconds):\n",
    "    print('start to sleep:', threading.current_thread().getName(), seconds)\n",
    "    time.sleep(seconds)\n",
    "    print('end sleeping:', threading.current_thread().getName(), seconds)\n",
    "    return seconds+10\n"
   ]
  },
  {
   "cell_type": "code",
   "execution_count": 2,
   "id": "14c6512af3f4342d",
   "metadata": {
    "ExecuteTime": {
     "end_time": "2023-08-17T01:39:21.986719800Z",
     "start_time": "2023-08-17T01:39:21.955451100Z"
    }
   },
   "outputs": [
    {
     "name": "stdout",
     "output_type": "stream",
     "text": [
      "start to sleep:start to sleep: 睡3秒线程 3\n",
      "创建多个线程\n",
      " 睡2秒线程 2\n",
      "end sleeping: 睡2秒线程 2\n",
      "end sleeping: 睡3秒线程 3\n"
     ]
    }
   ],
   "source": [
    "# 1.1.线程：计算机可以分配cpu调度的最小单元（车间里的工人）\n",
    "# IO不需要计算多核，线程即可。多线程适合IO密集型、网络爬虫，不怎么用CPU。\n",
    "\n",
    "# 当前主进程下创建多个子线程，线程并行在某些共享内存的数据结构上操作结果难以预料\n",
    "t1 = Thread(target=task, args=[1+1])\n",
    "t1.setName('睡2秒线程') # 放在start之前\n",
    "t2 = Thread(target=task, args=[2+1])\n",
    "t2.setName('睡3秒线程') # 放在start之前\n",
    "\n",
    "# 放在start之前。是否是守护线程，默认为否。是则主线程执行完毕关闭该守护线程\n",
    "t1.setDaemon(True)\n",
    "# t2.setDaemon(False)\n",
    "\n",
    "# 线程设置放在start之前\n",
    "t1.start() # 线程准备就绪，等待cpu调度，具体时间由cpu决定\n",
    "t2.start() # 线程准备就绪，等待cpu调度，具体时间由cpu决定\n",
    "\n",
    "# join：等待当前线程执行完毕才继续执行，如果没有则主线程继续执行不等待\n",
    "# t1.join() # 由于t1较短，不等t2执行完，只输出了t1的end\n",
    "# t2.join() # 由于t2较长，t2执行完时t1也执行完，输出t1和t2的end\n",
    "print('创建多个线程')\n",
    "# "
   ]
  },
  {
   "cell_type": "code",
   "execution_count": 7,
   "id": "246a5a4edf8de4a6",
   "metadata": {
    "ExecuteTime": {
     "end_time": "2023-08-17T01:48:35.693321400Z",
     "start_time": "2023-08-17T01:48:32.624650700Z"
    }
   },
   "outputs": [
    {
     "name": "stdout",
     "output_type": "stream",
     "text": [
      "start to sleep: 睡2秒线程\n",
      "start to sleep: 睡3秒线程\n",
      "end sleeping: 睡2秒线程\n",
      "end sleeping: 睡3秒线程\n"
     ]
    }
   ],
   "source": [
    "# 1.2. 线程类\n",
    "\n",
    "# 继承线程类\n",
    "class MyThread(Thread):\n",
    "    def run(self) -> None:\n",
    "        name, seconds = self._args\n",
    "        print('start to sleep:', name)\n",
    "        time.sleep(seconds)\n",
    "        print('end sleeping:', name)\n",
    "\n",
    "t1 = MyThread(args=['睡2秒线程', 2])\n",
    "t2 = MyThread(args=['睡3秒线程', 3])\n",
    "\n",
    "t1.start() # 线程准备就绪，等待cpu调度，具体时间由cpu决定\n",
    "t2.start() # 线程准备就绪，等待cpu调度，具体时间由cpu决定\n",
    "\n",
    "t2.join()\n"
   ]
  },
  {
   "cell_type": "code",
   "execution_count": 8,
   "id": "10240bd1dd68f726",
   "metadata": {
    "ExecuteTime": {
     "end_time": "2023-08-17T02:12:51.762821100Z",
     "start_time": "2023-08-17T02:12:46.695398700Z"
    }
   },
   "outputs": [
    {
     "name": "stdout",
     "output_type": "stream",
     "text": [
      "start to sleep: 睡2秒线程\n",
      "end sleeping: 睡2秒线程\n",
      "start to sleep: 睡3秒线程\n",
      "end sleeping: 睡3秒线程\n"
     ]
    }
   ],
   "source": [
    "# 1.3. 线程锁或threading.Lock()threading.RLock()，上述都是不安全，特别是共享内存数据部分修改不可控，不过python里有一些数据结构自身带锁线程安全的。\n",
    "from threading import Lock, RLock\n",
    "\n",
    "# 加同一把锁后，只有一个占用\n",
    "lock = Lock() # 同步锁，不支持嵌套，只能“锁-解-锁-解-...”\n",
    "# lock = RLock() # 递归锁，更强大，支持复杂多人同时开发,可以“锁-锁-解-解”嵌套\n",
    "\n",
    "# 继承线程类\n",
    "class MyThread(Thread):\n",
    "    def run(self) -> None:\n",
    "        # 方式一：lock.acquire() 和 lock.release()\n",
    "        # lock.acquire() # 申请锁\n",
    "        # name, seconds = self._args\n",
    "        # print('start to sleep:', name)\n",
    "        # time.sleep(seconds)\n",
    "        # print('end sleeping:', name)\n",
    "        # lock.release() # 释放锁\n",
    "        # 方式二：with\n",
    "        with lock: # 默认执行lock.acquire() 和 lock.release()\n",
    "            name, seconds = self._args\n",
    "            print('start to sleep:', name)\n",
    "            time.sleep(seconds)\n",
    "            print('end sleeping:', name)\n",
    "\n",
    "t1 = MyThread(args=['睡2秒线程', 2])\n",
    "t2 = MyThread(args=['睡3秒线程', 3])\n",
    "\n",
    "t1.start() # 线程准备就绪，等待cpu调度，具体时间由cpu决定\n",
    "t2.start() # 线程准备就绪，等待cpu调度，具体时间由cpu决定\n",
    "\n",
    "t1.join()\n",
    "t2.join()"
   ]
  },
  {
   "cell_type": "code",
   "execution_count": 9,
   "id": "757bf24e89e1406c",
   "metadata": {
    "ExecuteTime": {
     "start_time": "2023-08-17T02:20:42.939338800Z"
    }
   },
   "outputs": [
    {
     "name": "stdout",
     "output_type": "stream",
     "text": [
      "run 睡2秒线程\n",
      "run 睡3秒线程\n"
     ]
    },
    {
     "ename": "KeyboardInterrupt",
     "evalue": "",
     "output_type": "error",
     "traceback": [
      "\u001b[0;31m---------------------------------------------------------------------------\u001b[0m",
      "\u001b[0;31mKeyboardInterrupt\u001b[0m                         Traceback (most recent call last)",
      "Input \u001b[0;32mIn [9]\u001b[0m, in \u001b[0;36m<cell line: 23>\u001b[0;34m()\u001b[0m\n\u001b[1;32m     20\u001b[0m t1\u001b[38;5;241m.\u001b[39mstart() \u001b[38;5;66;03m# 线程准备就绪，等待cpu调度，具体时间由cpu决定\u001b[39;00m\n\u001b[1;32m     21\u001b[0m t2\u001b[38;5;241m.\u001b[39mstart() \u001b[38;5;66;03m# 线程准备就绪，等待cpu调度，具体时间由cpu决定\u001b[39;00m\n\u001b[0;32m---> 23\u001b[0m \u001b[43mt1\u001b[49m\u001b[38;5;241;43m.\u001b[39;49m\u001b[43mjoin\u001b[49m\u001b[43m(\u001b[49m\u001b[43m)\u001b[49m\n\u001b[1;32m     24\u001b[0m t2\u001b[38;5;241m.\u001b[39mjoin()\n",
      "File \u001b[0;32m~/opt/anaconda3/lib/python3.9/threading.py:1060\u001b[0m, in \u001b[0;36mThread.join\u001b[0;34m(self, timeout)\u001b[0m\n\u001b[1;32m   1057\u001b[0m     \u001b[38;5;28;01mraise\u001b[39;00m \u001b[38;5;167;01mRuntimeError\u001b[39;00m(\u001b[38;5;124m\"\u001b[39m\u001b[38;5;124mcannot join current thread\u001b[39m\u001b[38;5;124m\"\u001b[39m)\n\u001b[1;32m   1059\u001b[0m \u001b[38;5;28;01mif\u001b[39;00m timeout \u001b[38;5;129;01mis\u001b[39;00m \u001b[38;5;28;01mNone\u001b[39;00m:\n\u001b[0;32m-> 1060\u001b[0m     \u001b[38;5;28;43mself\u001b[39;49m\u001b[38;5;241;43m.\u001b[39;49m\u001b[43m_wait_for_tstate_lock\u001b[49m\u001b[43m(\u001b[49m\u001b[43m)\u001b[49m\n\u001b[1;32m   1061\u001b[0m \u001b[38;5;28;01melse\u001b[39;00m:\n\u001b[1;32m   1062\u001b[0m     \u001b[38;5;66;03m# the behavior of a negative timeout isn't documented, but\u001b[39;00m\n\u001b[1;32m   1063\u001b[0m     \u001b[38;5;66;03m# historically .join(timeout=x) for x<0 has acted as if timeout=0\u001b[39;00m\n\u001b[1;32m   1064\u001b[0m     \u001b[38;5;28mself\u001b[39m\u001b[38;5;241m.\u001b[39m_wait_for_tstate_lock(timeout\u001b[38;5;241m=\u001b[39m\u001b[38;5;28mmax\u001b[39m(timeout, \u001b[38;5;241m0\u001b[39m))\n",
      "File \u001b[0;32m~/opt/anaconda3/lib/python3.9/threading.py:1080\u001b[0m, in \u001b[0;36mThread._wait_for_tstate_lock\u001b[0;34m(self, block, timeout)\u001b[0m\n\u001b[1;32m   1077\u001b[0m     \u001b[38;5;28;01mreturn\u001b[39;00m\n\u001b[1;32m   1079\u001b[0m \u001b[38;5;28;01mtry\u001b[39;00m:\n\u001b[0;32m-> 1080\u001b[0m     \u001b[38;5;28;01mif\u001b[39;00m \u001b[43mlock\u001b[49m\u001b[38;5;241;43m.\u001b[39;49m\u001b[43macquire\u001b[49m\u001b[43m(\u001b[49m\u001b[43mblock\u001b[49m\u001b[43m,\u001b[49m\u001b[43m \u001b[49m\u001b[43mtimeout\u001b[49m\u001b[43m)\u001b[49m:\n\u001b[1;32m   1081\u001b[0m         lock\u001b[38;5;241m.\u001b[39mrelease()\n\u001b[1;32m   1082\u001b[0m         \u001b[38;5;28mself\u001b[39m\u001b[38;5;241m.\u001b[39m_stop()\n",
      "\u001b[0;31mKeyboardInterrupt\u001b[0m: "
     ]
    }
   ],
   "source": [
    "# 1.4. 死锁：相互占用资源不释放\n",
    "from threading import Lock\n",
    "lock = Lock() \n",
    "\n",
    "# 继承线程类:自定义线程类\n",
    "class MyThread(Thread):\n",
    "    def run(self) -> None:\n",
    "        name, seconds = self._args\n",
    "        print('run', name)\n",
    "        lock.acquire() # 申请锁\n",
    "        lock.acquire() # 申请锁，死锁了，程序没有终止\n",
    "        print('start to sleep:', name)\n",
    "        time.sleep(seconds)\n",
    "        print('end sleeping:', name)\n",
    "        lock.release() # 释放锁\n",
    "\n",
    "t1 = MyThread(args=['睡2秒线程', 2])\n",
    "t2 = MyThread(args=['睡3秒线程', 3])\n",
    "\n",
    "t1.start() # 线程准备就绪，等待cpu调度，具体时间由cpu决定\n",
    "t2.start() # 线程准备就绪，等待cpu调度，具体时间由cpu决定\n",
    "\n",
    "t1.join()\n",
    "t2.join()\n"
   ]
  },
  {
   "cell_type": "code",
   "execution_count": 6,
   "id": "26899546cfe74a1c",
   "metadata": {
    "ExecuteTime": {
     "end_time": "2023-08-17T02:38:20.428869300Z",
     "start_time": "2023-08-17T02:38:17.357391500Z"
    }
   },
   "outputs": [
    {
     "name": "stdout",
     "output_type": "stream",
     "text": [
      "start to sleep: ThreadPoolExecutor-0_0 2\n",
      "start to sleep: ThreadPoolExecutor-0_1 3\n",
      "threadpool start\n",
      "end sleeping: ThreadPoolExecutor-0_0 2\n",
      "response.result() 12\n",
      "end sleeping: ThreadPoolExecutor-0_1 3\n",
      "response.result() 13\n",
      "threadpool end\n"
     ]
    }
   ],
   "source": [
    "# 1.5.1 线程池：回调函数\n",
    "from concurrent.futures import ThreadPoolExecutor\n",
    "\n",
    "# 创建大小为3的线程池，最多维护3个线程\n",
    "threadpool = ThreadPoolExecutor(3)\n",
    "\n",
    "# 返回值自动封装在response中\n",
    "def done(response):\n",
    "    print('response.result()', response.result())\n",
    "\n",
    "# 提交一个任务给线程池，让线程池分配一个线程去执行该任务，自主安排，没有空闲线程则等着知道有新的空闲线程\n",
    "future1 = threadpool.submit(task, 2)\n",
    "future1.add_done_callback(done) # 执行线程后回调函数，返回线程执行return结果\n",
    "future2 = threadpool.submit(task, 3)\n",
    "future2.add_done_callback(done) # 执行线程后回调函数，返回线程执行return结果\n",
    "\n",
    "print('threadpool start')\n",
    "threadpool.shutdown(wait=True) # 等线程池中所有线程执行完毕，没有则不等待。类似于前面join的作用\n",
    "print('threadpool end')"
   ]
  },
  {
   "cell_type": "code",
   "execution_count": 9,
   "id": "acd9b5cc6e33bc5c",
   "metadata": {
    "ExecuteTime": {
     "end_time": "2023-08-17T02:45:21.387923300Z",
     "start_time": "2023-08-17T02:45:18.341249700Z"
    }
   },
   "outputs": [
    {
     "name": "stdout",
     "output_type": "stream",
     "text": [
      "start to sleep: ThreadPoolExecutor-6_0 2\n",
      "start to sleep: ThreadPoolExecutor-6_1 3\n",
      "threadpool start\n",
      "end sleeping: ThreadPoolExecutor-6_0 2\n",
      "end sleeping: ThreadPoolExecutor-6_1 3\n",
      "threadpool end\n",
      "12\n",
      "13\n"
     ]
    }
   ],
   "source": [
    "# 1.5.1 线程池：统一获取结果\n",
    "from concurrent.futures import ThreadPoolExecutor\n",
    "\n",
    "# 创建大小为3的线程池，最多维护3个线程\n",
    "threadpool = ThreadPoolExecutor(3)\n",
    "\n",
    "# 返回值自动封装在response中\n",
    "def done(response):\n",
    "    print('response.result()', response.result())\n",
    "\n",
    "# 提交一个任务给线程池，让线程池分配一个线程去执行该任务，自主安排，没有空闲线程则等着知道有新的空闲线程\n",
    "futures = []\n",
    "future1 = threadpool.submit(task, 2)\n",
    "futures.append(future1)\n",
    "future2 = threadpool.submit(task, 3)\n",
    "futures.append(future2)\n",
    "\n",
    "print('threadpool start')\n",
    "threadpool.shutdown(wait=True) # 等线程池中所有线程执行完毕，没有则不等待。类似于前面join的作用\n",
    "print('threadpool end')\n",
    "\n",
    "# 统一获取线程返回结果\n",
    "for future in futures:\n",
    "    print(future.result())\n"
   ]
  },
  {
   "cell_type": "code",
   "execution_count": 11,
   "id": "8bf30dd9143550e0",
   "metadata": {
    "ExecuteTime": {
     "end_time": "2023-08-17T03:10:53.848478900Z",
     "start_time": "2023-08-17T03:10:53.832852900Z"
    }
   },
   "outputs": [
    {
     "name": "stdout",
     "output_type": "stream",
     "text": [
      "<__main__.Singleton object at 0x000002390163A760>\n",
      "<__main__.Singleton object at 0x000002390163A760>\n"
     ]
    }
   ],
   "source": [
    "# 1.6. 单例设计模式在多线程中不安全\n",
    "# 单例模式：每次实例化类的对象时，都是最开始创建的那个对象，不再重复创建对象。保证全局该类下只有一个实例。\n",
    "# 1.6.1.普通情况下，地址相同\n",
    "class Singleton:\n",
    "    instance = None\n",
    "    def __init__(self, name):\n",
    "        self.name = name\n",
    "    def __new__(cls, *args, **kwargs):\n",
    "        if cls.instance:\n",
    "            return cls.instance\n",
    "        cls.instance = object.__new__(cls) # 创建一个空对象\n",
    "        return cls.instance\n",
    "o1 = Singleton('a')\n",
    "o2 = Singleton('b')\n",
    "# 以下输出是同一个地址\n",
    "print(o1)\n",
    "print(o2)"
   ]
  },
  {
   "cell_type": "code",
   "execution_count": 16,
   "id": "701e572d0cbc349f",
   "metadata": {
    "ExecuteTime": {
     "end_time": "2023-08-17T03:18:14.912807800Z",
     "start_time": "2023-08-17T03:18:12.848561300Z"
    }
   },
   "outputs": [
    {
     "name": "stdout",
     "output_type": "stream",
     "text": [
      "<__main__.Singleton object at 0x000002390163AFD0>\n",
      "<__main__.Singleton object at 0x0000023901608880>\n",
      "<__main__.Singleton object at 0x00000239016089A0><__main__.Singleton object at 0x0000023901608C10>\n",
      "<__main__.Singleton object at 0x0000023901608370><__main__.Singleton object at 0x0000023901608A00>\n",
      "<__main__.Singleton object at 0x0000023901608B20>\n",
      "\n",
      "<__main__.Singleton object at 0x0000023901608EE0>\n"
     ]
    }
   ],
   "source": [
    "# 1.6. 单例设计模式在多线程中不安全\n",
    "# 1.6.2.多线程下的单例模式不安全（出问题）\n",
    "from threading import Lock\n",
    "lock = Lock() \n",
    "\n",
    "class Singleton:\n",
    "    instance = None\n",
    "    def __init__(self, name):\n",
    "        self.name = name\n",
    "    def __new__(cls, *args, **kwargs):\n",
    "        # 不安全\n",
    "        if cls.instance:\n",
    "            return cls.instance\n",
    "        time.sleep(2) # 执行此时各线程时间不同，需要在这个函数的代码块进行加锁（如\"with lock:\"）\n",
    "        cls.instance = object.__new__(cls) # 创建一个空对象\n",
    "        return cls.instance\n",
    "        # 安全\n",
    "        # with lock:\n",
    "        #     if cls.instance:\n",
    "        #         return cls.instance\n",
    "        #     time.sleep(2) # 执行此时各线程时间不同，需要在这个函数的代码块进行加锁（如\"with lock:\"）\n",
    "        #     cls.instance = object.__new__(cls) # 创建一个空对象\n",
    "        #     return cls.instance\n",
    "def task(name):\n",
    "    o = Singleton(name)\n",
    "    print(o) # 地址存在不同\n",
    "for x in 'abcdedfg':\n",
    "    t = Thread(target=task, args=[x])\n",
    "    t.start()\n",
    "t.join()\n"
   ]
  },
  {
   "cell_type": "code",
   "execution_count": 1,
   "id": "e10d8e49d1f19cc8",
   "metadata": {
    "ExecuteTime": {
     "end_time": "2023-08-17T06:08:41.656086Z",
     "start_time": "2023-08-17T06:08:38.601788800Z"
    }
   },
   "outputs": [
    {
     "name": "stdout",
     "output_type": "stream",
     "text": [
      "2 MainProcess 33238 33238 7334\n",
      "2 [<_MainThread(MainThread, started 8213470720)>, <Thread(IOPub, started daemon 6120517632)>, <Heartbeat(Heartbeat, started daemon 6137344000)>, <Thread(Thread-3, started daemon 6155317248)>, <Thread(Thread-4, started daemon 6172143616)>, <ControlThread(Control, started daemon 6188969984)>, <HistorySavingThread(IPythonHistorySavingThread, started 6205796352)>, <ParentPollerUnix(Thread-2, started daemon 6223196160)>]\n",
      "2 8\n",
      "2 ['fubin']\n"
     ]
    }
   ],
   "source": [
    "# 2.进程：计算机分配资源的最小单元（车间），比线程开销大，相互之间独立。CPython 全局解释锁（GIL）导致其在并行计算上优于多线程。\n",
    "# 2.1 进程三种模式、函数\n",
    "# 计算机多核优势适合多进程，适合计算密集型。\n",
    "import multiprocess, threading\n",
    "import time, os\n",
    "from multiprocess import Process\n",
    "\n",
    "# windows/linux/mac底层创建进程的方式不同，但在main函数里头都能成功\n",
    "# fork: 自动把原来进程资源(包括文件对象和线程锁)拷贝复制一份，任意位置开始，快，os.fork()。unix\n",
    "# spawn：手动传入参数必备资源(不支持文件对象和线程锁传参，需要自己创建这些资源)，main代码块开始，慢。window只支持这种模式。unix/windows\n",
    "# forkserver：手动传入参数必备资源（不支持文件对象和线程锁传参，需要自己创建这些资源），main代码块开始. 部分unix\n",
    "\n",
    "def task():\n",
    "    print(1,name)\n",
    "    print(1,multiprocess.current_process().name, multiprocess.current_process().pid)\n",
    "    print(1, os.getpid(), os.getppid())\n",
    "    name.append('lichy')\n",
    "\n",
    "if __name__=='__main__':\n",
    "    # 1.fork模式：自动拷贝\n",
    "    multiprocess.set_start_method('fork')\n",
    "    name = ['fubin']\n",
    "    p = Process(target=task)\n",
    "    p.name = 'fb'\n",
    "    # 守护进程\n",
    "    p.daemon = False # False：等子进程执行完毕，关闭该主进程；True: 不等子进程执行完毕，主进程执行完毕关闭子进程\n",
    "    p.start()\n",
    "    \n",
    "    # 2.spawn模式：手动传参\n",
    "    # multiprocess.set_start_method('spawn')\n",
    "    # name = ['fubin']\n",
    "    # p = Process(target=task,args=(name,)) # 参数传递\n",
    "    # p.start()\n",
    "    \n",
    "    # 3.forsever模式：手动传参\n",
    "    # multiprocess.set_start_method('forksever')\n",
    "    # name = ['fubin']\n",
    "    # p = Process(target=task,args=(name,)) # 参数传递\n",
    "    # p.start()\n",
    "    \n",
    "    time.sleep(3)\n",
    "    # 获取当前进程的名字、id、父进程id\n",
    "    print(2,multiprocess.current_process().name, multiprocess.current_process().pid, os.getpid(), os.getppid())\n",
    "    # 获取当前进程的子线程个数\n",
    "    print(2,threading.enumerate())\n",
    "    # 查看cpu个数(核数)\n",
    "    print(2,multiprocess.cpu_count())\n",
    "    print(2,name)\n"
   ]
  },
  {
   "cell_type": "code",
   "execution_count": 11,
   "id": "857497962e38447c",
   "metadata": {
    "ExecuteTime": {
     "end_time": "2023-08-17T06:04:41.971714200Z",
     "start_time": "2023-08-17T06:04:41.909205700Z"
    }
   },
   "outputs": [
    {
     "name": "stdout",
     "output_type": "stream",
     "text": [
      "主进程执行\n",
      "进程： ('fb',)\n"
     ]
    }
   ],
   "source": [
    "# 2.2 自定义进程类\n",
    "from multiprocess import Process\n",
    "\n",
    "class MyProcess(Process):\n",
    "    def run(self):\n",
    "        print(\"进程：\", self._args)\n",
    "\n",
    "if __name__=='__main__':\n",
    "    p = MyProcess(args=('fb',))\n",
    "    p.start()\n",
    "    print('主进程执行')"
   ]
  },
  {
   "cell_type": "code",
   "execution_count": 2,
   "id": "3f764e195ce37264",
   "metadata": {
    "ExecuteTime": {
     "end_time": "2023-08-17T06:15:37.076288500Z",
     "start_time": "2023-08-17T06:15:36.306439200Z"
    }
   },
   "outputs": [
    {
     "name": "stdout",
     "output_type": "stream",
     "text": [
      "[]\n"
     ]
    }
   ],
   "source": [
    "# 2.3 进程之间数据共享\n",
    "# 2.3.1 默认不共享\n",
    "from multiprocess import Process\n",
    "\n",
    "def task(data):\n",
    "    data.append('lichy')\n",
    "\n",
    "if __name__=='__main__':\n",
    "    data = []\n",
    "    p = Process(target=task, args=(data,))\n",
    "    p.start()\n",
    "    p.join()\n",
    "    \n",
    "    print(data)"
   ]
  },
  {
   "cell_type": "code",
   "execution_count": 5,
   "id": "bf48a12145a76bfa",
   "metadata": {
    "ExecuteTime": {
     "end_time": "2023-08-17T06:33:32.690290500Z",
     "start_time": "2023-08-17T06:33:32.041420600Z"
    }
   },
   "outputs": [
    {
     "name": "stdout",
     "output_type": "stream",
     "text": [
      "1 18 18.0 [1, 2, 3, 4]\n",
      "11 17 b'\\x00' 16.010000228881836 [-1, 2, 3, 4]\n",
      "2 17 16.010000228881836 [-1, 2, 3, 4]\n"
     ]
    }
   ],
   "source": [
    "# 2.3.2 进程之间数据共享  方式一： 一些特殊共享数据结构：Value,Array数字\n",
    "from multiprocess import Process, Value, Array\n",
    "\n",
    "def task(data1,data3,data4):\n",
    "    data1.value = 17\n",
    "    data3.value = 16.01\n",
    "    data4[0] = -1\n",
    "    print(11,data1.value,data2.value,data3.value, data4[:])\n",
    "\n",
    "if __name__=='__main__':\n",
    "    # c++风格，还有其他\n",
    "    data1 = Value('i',18) # int \n",
    "    data3 = Value('f',18.) # double\n",
    "    data4 = Array('i',[1,2,3,4]) # list\n",
    "    print(1,data1.value,data3.value,data4[:])\n",
    "    p = Process(target=task, args=(data1,data3,data4))\n",
    "    p.start()\n",
    "    p.join()\n",
    "    \n",
    "    print(2,data1.value,data3.value,data4[:])"
   ]
  },
  {
   "cell_type": "code",
   "execution_count": 18,
   "id": "cddd9bac8b2d83a5",
   "metadata": {
    "ExecuteTime": {
     "end_time": "2023-08-17T06:46:02.914436900Z",
     "start_time": "2023-08-17T06:46:00.376352800Z"
    }
   },
   "outputs": [
    {
     "name": "stdout",
     "output_type": "stream",
     "text": [
      "1 {'fb': 1} ['fb'] <bound method Queue.qsize of <multiprocess.queues.Queue object at 0x1076ff460>>\n",
      "11 {'fb': 1, 'bf': -1} ['fb', 'lcy']\n",
      "2 {'fb': 1, 'bf': -1} ['fb', 'lcy'] <bound method Queue.qsize of <multiprocess.queues.Queue object at 0x1076ff460>>\n",
      "['__class__', '__delattr__', '__dict__', '__dir__', '__doc__', '__eq__', '__format__', '__ge__', '__getattribute__', '__getstate__', '__gt__', '__hash__', '__init__', '__init_subclass__', '__le__', '__lt__', '__module__', '__ne__', '__new__', '__reduce__', '__reduce_ex__', '__repr__', '__setattr__', '__setstate__', '__sizeof__', '__str__', '__subclasshook__', '__weakref__', '_after_fork', '_buffer', '_close', '_closed', '_feed', '_finalize_close', '_finalize_join', '_ignore_epipe', '_joincancelled', '_jointhread', '_maxsize', '_notempty', '_on_queue_feeder_error', '_opid', '_poll', '_reader', '_recv_bytes', '_reset', '_rlock', '_sem', '_send_bytes', '_start_thread', '_thread', '_wlock', '_writer', 'cancel_join_thread', 'close', 'empty', 'full', 'get', 'get_nowait', 'join_thread', 'put', 'put_nowait', 'qsize']\n"
     ]
    }
   ],
   "source": [
    "# 2.3.2 进程之间数据共享  方式二： manager， Queue （FIFO）\n",
    "from multiprocess import Process, Manager, Queue\n",
    "\n",
    "def task(d, l, q):\n",
    "    d['bf'] = -1\n",
    "    l.append('lcy')\n",
    "    q.put(2)\n",
    "    print(11, d,l)\n",
    "\n",
    "if __name__=='__main__':\n",
    "    # \n",
    "    with Manager() as manager:\n",
    "        d = manager.dict()\n",
    "        l = manager.list()\n",
    "        d['fb'] = 1\n",
    "        l.append('fb')\n",
    "        \n",
    "        queue = Queue()\n",
    "        queue.put(1)\n",
    "        \n",
    "        print(1, d,l,queue.qsize)\n",
    "        p = Process(target=task, args=(d,l,queue))\n",
    "        p.start()\n",
    "        p.join()\n",
    "        \n",
    "        print(2, d, l, queue.qsize)\n",
    "        print(dir(queue))"
   ]
  },
  {
   "cell_type": "code",
   "execution_count": 21,
   "id": "e666e700aeefc7ea",
   "metadata": {
    "ExecuteTime": {
     "start_time": "2023-08-17T06:53:19.980851800Z"
    }
   },
   "outputs": [
    {
     "name": "stdout",
     "output_type": "stream",
     "text": [
      "子进程发送： [1, 2, 4]\n",
      "父进程接收： [1, 2, 4]\n",
      "父进程发送： 123\n",
      "子进程接收： 123\n"
     ]
    }
   ],
   "source": [
    "# 2.3.2 进程之间数据共享  方式三： pipe\n",
    "from multiprocess import Process, Pipe\n",
    "\n",
    "def task(conn):\n",
    "    time.sleep(2)\n",
    "    # 发送\n",
    "    print('子进程发送：', [1,2,4])\n",
    "    conn.send([1,2,4])\n",
    "    # 接收\n",
    "    data = conn.recv() # 阻塞\n",
    "    print('子进程接收：', data)\n",
    "    time.sleep(2)\n",
    "\n",
    "if __name__=='__main__':\n",
    "    parent_conn, child_conn = Pipe()\n",
    "    p = Process(target=task, args=(child_conn,))\n",
    "    p.start()\n",
    "    # 接收\n",
    "    data = parent_conn.recv() # 阻塞\n",
    "    print('父进程接收：', data)\n",
    "    # 发送\n",
    "    print('父进程发送：', 123)\n",
    "    parent_conn.send(123)"
   ]
  },
  {
   "cell_type": "code",
   "execution_count": null,
   "id": "131dc4b4219b8378",
   "metadata": {},
   "outputs": [],
   "source": [
    "# 总结：实际上，除了上述python内部数据结构实现外，还可以采用外部资源来实现，如文件、Mysql和redis。"
   ]
  },
  {
   "cell_type": "code",
   "execution_count": 22,
   "id": "4a0a24eb94d4629c",
   "metadata": {
    "ExecuteTime": {
     "end_time": "2023-08-17T07:09:33.353158800Z",
     "start_time": "2023-08-17T07:09:25.315299400Z"
    }
   },
   "outputs": [
    {
     "name": "stdout",
     "output_type": "stream",
     "text": [
      "33344\n",
      "33345\n",
      "33346\n"
     ]
    }
   ],
   "source": [
    "# 2.4 进程锁：同线程锁类似，好多进程同时修改同一份共享资源（数据或文件）\n",
    "from multiprocess import Process, RLock\n",
    "import time\n",
    "\n",
    "def task(lock):\n",
    "    # 进程锁同线程锁类似，锁定代码块\n",
    "    lock.acquire()\n",
    "    print(os.getpid())\n",
    "    lock.release()\n",
    "\n",
    "if __name__=='__main__':\n",
    "    # 进程锁\n",
    "    lock = RLock()\n",
    "    \n",
    "    for i in range(3):\n",
    "        p = Process(target=task, args=(lock,)) # 进程锁可以传递给不同进程，这里和线程锁有所不同\n",
    "        p.start()\n",
    "    \n",
    "    time.sleep(8)"
   ]
  },
  {
   "cell_type": "code",
   "execution_count": 2,
   "id": "5a073d8b5707d2e5",
   "metadata": {
    "ExecuteTime": {
     "end_time": "2023-08-17T07:24:13.485397900Z",
     "start_time": "2023-08-17T07:24:09.409323300Z"
    }
   },
   "outputs": [
    {
     "name": "stdout",
     "output_type": "stream",
     "text": [
      "2 33425\n",
      "1 33425\n"
     ]
    },
    {
     "name": "stderr",
     "output_type": "stream",
     "text": [
      "Process SpawnProcess-4:\n",
      "Process SpawnProcess-5:\n",
      "Process SpawnProcess-6:\n",
      "Traceback (most recent call last):\n",
      "Traceback (most recent call last):\n",
      "  File \"/Users/fubin/opt/anaconda3/lib/python3.9/multiprocessing/process.py\", line 315, in _bootstrap\n",
      "    self.run()\n",
      "  File \"/Users/fubin/opt/anaconda3/lib/python3.9/multiprocessing/process.py\", line 108, in run\n",
      "    self._target(*self._args, **self._kwargs)\n",
      "  File \"/Users/fubin/opt/anaconda3/lib/python3.9/concurrent/futures/process.py\", line 240, in _process_worker\n",
      "    call_item = call_queue.get(block=True)\n",
      "  File \"/Users/fubin/opt/anaconda3/lib/python3.9/multiprocessing/queues.py\", line 122, in get\n",
      "    return _ForkingPickler.loads(res)\n",
      "Traceback (most recent call last):\n",
      "  File \"/Users/fubin/opt/anaconda3/lib/python3.9/multiprocessing/process.py\", line 315, in _bootstrap\n",
      "    self.run()\n",
      "  File \"/Users/fubin/opt/anaconda3/lib/python3.9/multiprocessing/process.py\", line 108, in run\n",
      "    self._target(*self._args, **self._kwargs)\n",
      "  File \"/Users/fubin/opt/anaconda3/lib/python3.9/concurrent/futures/process.py\", line 240, in _process_worker\n",
      "    call_item = call_queue.get(block=True)\n",
      "  File \"/Users/fubin/opt/anaconda3/lib/python3.9/multiprocessing/queues.py\", line 122, in get\n",
      "    return _ForkingPickler.loads(res)\n",
      "AttributeError: Can't get attribute 'task' on <module '__main__' (built-in)>\n",
      "  File \"/Users/fubin/opt/anaconda3/lib/python3.9/multiprocessing/process.py\", line 315, in _bootstrap\n",
      "    self.run()\n",
      "AttributeError: Can't get attribute 'task' on <module '__main__' (built-in)>\n",
      "  File \"/Users/fubin/opt/anaconda3/lib/python3.9/multiprocessing/process.py\", line 108, in run\n",
      "    self._target(*self._args, **self._kwargs)\n",
      "  File \"/Users/fubin/opt/anaconda3/lib/python3.9/concurrent/futures/process.py\", line 240, in _process_worker\n",
      "    call_item = call_queue.get(block=True)\n",
      "  File \"/Users/fubin/opt/anaconda3/lib/python3.9/multiprocessing/queues.py\", line 122, in get\n",
      "    return _ForkingPickler.loads(res)\n",
      "AttributeError: Can't get attribute 'task' on <module '__main__' (built-in)>\n",
      "exception calling callback for <Future at 0x103edc310 state=finished raised BrokenProcessPool>\n",
      "Traceback (most recent call last):\n",
      "  File \"/Users/fubin/opt/anaconda3/lib/python3.9/concurrent/futures/_base.py\", line 330, in _invoke_callbacks\n",
      "    callback(self)\n",
      "  File \"/var/folders/6l/8jb84y794gz98hv20bv2jlmw0000gn/T/ipykernel_33425/3186177949.py\", line 14, in done\n",
      "    print(1,res.result())\n",
      "  File \"/Users/fubin/opt/anaconda3/lib/python3.9/concurrent/futures/_base.py\", line 439, in result\n",
      "    return self.__get_result()\n",
      "  File \"/Users/fubin/opt/anaconda3/lib/python3.9/concurrent/futures/_base.py\", line 391, in __get_result\n",
      "    raise self._exception\n",
      "concurrent.futures.process.BrokenProcessPool: A process in the process pool was terminated abruptly while the future was running or pending.\n"
     ]
    },
    {
     "name": "stdout",
     "output_type": "stream",
     "text": [
      "1 33425\n"
     ]
    },
    {
     "name": "stderr",
     "output_type": "stream",
     "text": [
      "exception calling callback for <Future at 0x103ff7f40 state=finished raised BrokenProcessPool>\n",
      "Traceback (most recent call last):\n",
      "  File \"/Users/fubin/opt/anaconda3/lib/python3.9/concurrent/futures/_base.py\", line 330, in _invoke_callbacks\n",
      "    callback(self)\n",
      "  File \"/var/folders/6l/8jb84y794gz98hv20bv2jlmw0000gn/T/ipykernel_33425/3186177949.py\", line 14, in done\n",
      "    print(1,res.result())\n",
      "  File \"/Users/fubin/opt/anaconda3/lib/python3.9/concurrent/futures/_base.py\", line 439, in result\n",
      "    return self.__get_result()\n",
      "  File \"/Users/fubin/opt/anaconda3/lib/python3.9/concurrent/futures/_base.py\", line 391, in __get_result\n",
      "    raise self._exception\n",
      "  File \"/Users/fubin/opt/anaconda3/lib/python3.9/concurrent/futures/_base.py\", line 330, in _invoke_callbacks\n",
      "    callback(self)\n",
      "  File \"/var/folders/6l/8jb84y794gz98hv20bv2jlmw0000gn/T/ipykernel_33425/3186177949.py\", line 14, in done\n",
      "    print(1,res.result())\n",
      "  File \"/Users/fubin/opt/anaconda3/lib/python3.9/concurrent/futures/_base.py\", line 439, in result\n",
      "    return self.__get_result()\n",
      "  File \"/Users/fubin/opt/anaconda3/lib/python3.9/concurrent/futures/_base.py\", line 391, in __get_result\n",
      "    raise self._exception\n",
      "concurrent.futures.process.BrokenProcessPool: A process in the process pool was terminated abruptly while the future was running or pending.\n"
     ]
    },
    {
     "name": "stdout",
     "output_type": "stream",
     "text": [
      "1 33425\n"
     ]
    },
    {
     "name": "stderr",
     "output_type": "stream",
     "text": [
      "exception calling callback for <Future at 0x103fd3bb0 state=finished raised BrokenProcessPool>\n",
      "Traceback (most recent call last):\n",
      "  File \"/Users/fubin/opt/anaconda3/lib/python3.9/concurrent/futures/_base.py\", line 330, in _invoke_callbacks\n",
      "    callback(self)\n",
      "  File \"/var/folders/6l/8jb84y794gz98hv20bv2jlmw0000gn/T/ipykernel_33425/3186177949.py\", line 14, in done\n",
      "    print(1,res.result())\n",
      "  File \"/Users/fubin/opt/anaconda3/lib/python3.9/concurrent/futures/_base.py\", line 439, in result\n",
      "    return self.__get_result()\n",
      "  File \"/Users/fubin/opt/anaconda3/lib/python3.9/concurrent/futures/_base.py\", line 391, in __get_result\n",
      "    raise self._exception\n",
      "  File \"/Users/fubin/opt/anaconda3/lib/python3.9/concurrent/futures/_base.py\", line 330, in _invoke_callbacks\n",
      "    callback(self)\n",
      "  File \"/var/folders/6l/8jb84y794gz98hv20bv2jlmw0000gn/T/ipykernel_33425/3186177949.py\", line 14, in done\n",
      "    print(1,res.result())\n",
      "  File \"/Users/fubin/opt/anaconda3/lib/python3.9/concurrent/futures/_base.py\", line 439, in result\n",
      "    return self.__get_result()\n",
      "  File \"/Users/fubin/opt/anaconda3/lib/python3.9/concurrent/futures/_base.py\", line 391, in __get_result\n",
      "    raise self._exception\n",
      "  File \"/Users/fubin/opt/anaconda3/lib/python3.9/concurrent/futures/_base.py\", line 330, in _invoke_callbacks\n",
      "    callback(self)\n",
      "  File \"/var/folders/6l/8jb84y794gz98hv20bv2jlmw0000gn/T/ipykernel_33425/3186177949.py\", line 14, in done\n",
      "    print(1,res.result())\n",
      "  File \"/Users/fubin/opt/anaconda3/lib/python3.9/concurrent/futures/_base.py\", line 439, in result\n",
      "    return self.__get_result()\n",
      "  File \"/Users/fubin/opt/anaconda3/lib/python3.9/concurrent/futures/_base.py\", line 391, in __get_result\n",
      "    raise self._exception\n",
      "concurrent.futures.process.BrokenProcessPool: A process in the process pool was terminated abruptly while the future was running or pending.\n"
     ]
    }
   ],
   "source": [
    "# 2.5 进程池：同线程池使用类似\n",
    "import multiprocess, time\n",
    "from concurrent.futures import ProcessPoolExecutor\n",
    "\n",
    "def task(num):\n",
    "    print('执行：',num)\n",
    "    time.sleep(2)\n",
    "    return num\n",
    "\n",
    "# 构建回调函数的操作内容\n",
    "def done(res):\n",
    "    print(1,multiprocess.current_process().pid)\n",
    "    time.sleep(1)\n",
    "    print(1,res.result())\n",
    "    time.sleep(2)\n",
    "\n",
    "if __name__==\"__main__\":\n",
    "#     multiprocess.set_start_method('fork')\n",
    "    processpool = ProcessPoolExecutor(3)\n",
    "    for i in range(3):\n",
    "        future = processpool.submit(task, i)\n",
    "        future.add_done_callback(done) # 设置回调函数，和多线程一样\n",
    "    print(2, multiprocess.current_process().pid)\n",
    "    processpool.shutdown(wait=True)"
   ]
  },
  {
   "cell_type": "code",
   "execution_count": 3,
   "id": "c3e68f5275c03bc8",
   "metadata": {
    "ExecuteTime": {
     "end_time": "2023-08-17T07:31:23.111104300Z",
     "start_time": "2023-08-17T07:31:21.478796400Z"
    }
   },
   "outputs": [
    {
     "name": "stdout",
     "output_type": "stream",
     "text": [
      "2 33452\n"
     ]
    },
    {
     "name": "stderr",
     "output_type": "stream",
     "text": [
      "Process SpawnProcess-8:\n",
      "Traceback (most recent call last):\n",
      "  File \"/Users/fubin/opt/anaconda3/lib/python3.9/multiprocessing/process.py\", line 315, in _bootstrap\n",
      "    self.run()\n",
      "  File \"/Users/fubin/opt/anaconda3/lib/python3.9/multiprocessing/process.py\", line 108, in run\n",
      "    self._target(*self._args, **self._kwargs)\n",
      "  File \"/Users/fubin/opt/anaconda3/lib/python3.9/concurrent/futures/process.py\", line 240, in _process_worker\n",
      "    call_item = call_queue.get(block=True)\n",
      "  File \"/Users/fubin/opt/anaconda3/lib/python3.9/multiprocessing/queues.py\", line 122, in get\n",
      "    return _ForkingPickler.loads(res)\n",
      "AttributeError: Can't get attribute 'task' on <module '__main__' (built-in)>\n",
      "Process SpawnProcess-9:\n",
      "Traceback (most recent call last):\n",
      "  File \"/Users/fubin/opt/anaconda3/lib/python3.9/multiprocessing/process.py\", line 315, in _bootstrap\n",
      "    self.run()\n",
      "  File \"/Users/fubin/opt/anaconda3/lib/python3.9/multiprocessing/process.py\", line 108, in run\n",
      "    self._target(*self._args, **self._kwargs)\n",
      "  File \"/Users/fubin/opt/anaconda3/lib/python3.9/concurrent/futures/process.py\", line 240, in _process_worker\n",
      "    call_item = call_queue.get(block=True)\n",
      "  File \"/Users/fubin/opt/anaconda3/lib/python3.9/multiprocessing/queues.py\", line 122, in get\n",
      "    return _ForkingPickler.loads(res)\n",
      "AttributeError: Can't get attribute 'task' on <module '__main__' (built-in)>\n",
      "Process SpawnProcess-10:\n",
      "Traceback (most recent call last):\n",
      "  File \"/Users/fubin/opt/anaconda3/lib/python3.9/multiprocessing/process.py\", line 315, in _bootstrap\n",
      "    self.run()\n",
      "  File \"/Users/fubin/opt/anaconda3/lib/python3.9/multiprocessing/process.py\", line 108, in run\n",
      "    self._target(*self._args, **self._kwargs)\n",
      "  File \"/Users/fubin/opt/anaconda3/lib/python3.9/concurrent/futures/process.py\", line 240, in _process_worker\n",
      "    call_item = call_queue.get(block=True)\n",
      "  File \"/Users/fubin/opt/anaconda3/lib/python3.9/multiprocessing/queues.py\", line 122, in get\n",
      "    return _ForkingPickler.loads(res)\n",
      "AttributeError: Can't get attribute 'task' on <module '__main__' (built-in)>\n"
     ]
    }
   ],
   "source": [
    "# 2.5 进程池中的进程锁：同线程池使用类似，但是只能使用multiprocessing.Manager.RLock，不能使用multiprocessing.RLock\n",
    "import multiprocess\n",
    "from concurrent.futures import ProcessPoolExecutor\n",
    "from multiprocess import Manager\n",
    "\n",
    "def task(num, lock):\n",
    "    lock.acquire()\n",
    "    print('执行：',num)\n",
    "    time.sleep(2)\n",
    "    lock.release()\n",
    "    return num\n",
    "\n",
    "if __name__=='__main__':\n",
    "#     multiprocess.set_start_method('fork')\n",
    "    # 这里进程池只能使用multiprocess.Manager.RLock，不能使用multiprocess.RLock\n",
    "    lock = Manager().RLock()\n",
    "    processpool = ProcessPoolExecutor(3)\n",
    "    for i in range(3):\n",
    "        future = processpool.submit(task, (i, lock))\n",
    "    print(2, multiprocess.current_process().pid)\n",
    "    processpool.shutdown(wait=True)"
   ]
  },
  {
   "cell_type": "code",
   "execution_count": 4,
   "id": "e2afc3dc2bfcaa95",
   "metadata": {
    "ExecuteTime": {
     "end_time": "2023-08-17T07:47:25.072856500Z",
     "start_time": "2023-08-17T07:47:25.025920Z"
    }
   },
   "outputs": [
    {
     "name": "stdout",
     "output_type": "stream",
     "text": [
      "1\n",
      "3\n",
      "2\n",
      "4\n"
     ]
    }
   ],
   "source": [
    "# 3. 协程(异步编程，coroutine)：通过代码实现的东西，计算机中并不存在（一般不太重要，进程和线程是计算机内真实存在的）\n",
    "# 协程也称为微线程，是一种用户态内上下文切换技术，通过一个线程实现代码块相互切换执行（来回跳着执行）\n",
    "# 用处：处理io请求等待时间还想干点其他事情，通过一个线程实现并发操作\n",
    "# 3.1 第三方实现包如greenlet实现协程：用户主动设置切换，效率低\n",
    "\n",
    "from greenlet import greenlet\n",
    "\n",
    "# gl1\n",
    "def fun1():\n",
    "    print(1)\n",
    "    gl2.switch() # 跳转fun2\n",
    "    print(2)\n",
    "    gl2.switch() # 跳转fun2\n",
    "# gl2\n",
    "def fun2():\n",
    "    print(3)\n",
    "    gl1.switch() # 跳转fun1\n",
    "    print(4)\n",
    "    gl1.switch() # 跳转fun1\n",
    "\n",
    "gl1 = greenlet(fun1)\n",
    "gl2 = greenlet(fun2)\n",
    "\n",
    "# 开始执行fun1\n",
    "gl1.switch()"
   ]
  },
  {
   "cell_type": "code",
   "execution_count": 5,
   "id": "dc98fddc911ebd17",
   "metadata": {
    "ExecuteTime": {
     "end_time": "2023-08-17T07:52:09.806138100Z",
     "start_time": "2023-08-17T07:52:09.790511700Z"
    }
   },
   "outputs": [
    {
     "name": "stdout",
     "output_type": "stream",
     "text": [
      "1\n",
      "3\n",
      "4\n",
      "2\n"
     ]
    }
   ],
   "source": [
    "# 3.2 yield实现协程：用户主动设置切换，效率低\n",
    "def fun1():\n",
    "    yield 1\n",
    "    yield from fun2()\n",
    "    yield 2\n",
    "def fun2():\n",
    "    yield 3\n",
    "    # yield from fun1()  输出 1,3,1,3,1,3,1,3,1,3,...\n",
    "    yield 4\n",
    "\n",
    "f1 = fun1()\n",
    "for i in f1:\n",
    "    print(i)"
   ]
  },
  {
   "cell_type": "code",
   "execution_count": 1,
   "id": "227401e5a28aeaea",
   "metadata": {
    "ExecuteTime": {
     "end_time": "2023-08-18T00:42:29.262495100Z",
     "start_time": "2023-08-18T00:42:27.950079500Z"
    }
   },
   "outputs": [
    {
     "ename": "RuntimeError",
     "evalue": "This event loop is already running",
     "output_type": "error",
     "traceback": [
      "\u001b[1;31m---------------------------------------------------------------------------\u001b[0m",
      "\u001b[1;31mRuntimeError\u001b[0m                              Traceback (most recent call last)",
      "\u001b[1;32m~\\AppData\\Local\\Temp\\ipykernel_16020\\1342994802.py\u001b[0m in \u001b[0;36m<module>\u001b[1;34m\u001b[0m\n\u001b[0;32m     19\u001b[0m \u001b[0mloop\u001b[0m \u001b[1;33m=\u001b[0m \u001b[0masyncio\u001b[0m\u001b[1;33m.\u001b[0m\u001b[0mget_event_loop\u001b[0m\u001b[1;33m(\u001b[0m\u001b[1;33m)\u001b[0m \u001b[1;31m# 轮询，一般程序入口\u001b[0m\u001b[1;33m\u001b[0m\u001b[1;33m\u001b[0m\u001b[0m\n\u001b[0;32m     20\u001b[0m \u001b[1;31m# 内部一个线程来执行\u001b[0m\u001b[1;33m\u001b[0m\u001b[1;33m\u001b[0m\u001b[0m\n\u001b[1;32m---> 21\u001b[1;33m \u001b[0mloop\u001b[0m\u001b[1;33m.\u001b[0m\u001b[0mrun_until_complete\u001b[0m\u001b[1;33m(\u001b[0m\u001b[0masyncio\u001b[0m\u001b[1;33m.\u001b[0m\u001b[0mwait\u001b[0m\u001b[1;33m(\u001b[0m\u001b[0mtasks\u001b[0m\u001b[1;33m)\u001b[0m\u001b[1;33m)\u001b[0m\u001b[1;33m\u001b[0m\u001b[1;33m\u001b[0m\u001b[0m\n\u001b[0m\u001b[0;32m     22\u001b[0m \u001b[0mloop\u001b[0m\u001b[1;33m.\u001b[0m\u001b[0mclose\u001b[0m\u001b[1;33m(\u001b[0m\u001b[1;33m)\u001b[0m\u001b[1;33m\u001b[0m\u001b[1;33m\u001b[0m\u001b[0m\n\u001b[0;32m     23\u001b[0m \u001b[1;33m\u001b[0m\u001b[0m\n",
      "\u001b[1;32mC:\\ProgramData\\Anaconda3\\envs\\fubin\\lib\\asyncio\\base_events.py\u001b[0m in \u001b[0;36mrun_until_complete\u001b[1;34m(self, future)\u001b[0m\n\u001b[0;32m    621\u001b[0m         \"\"\"\n\u001b[0;32m    622\u001b[0m         \u001b[0mself\u001b[0m\u001b[1;33m.\u001b[0m\u001b[0m_check_closed\u001b[0m\u001b[1;33m(\u001b[0m\u001b[1;33m)\u001b[0m\u001b[1;33m\u001b[0m\u001b[1;33m\u001b[0m\u001b[0m\n\u001b[1;32m--> 623\u001b[1;33m         \u001b[0mself\u001b[0m\u001b[1;33m.\u001b[0m\u001b[0m_check_running\u001b[0m\u001b[1;33m(\u001b[0m\u001b[1;33m)\u001b[0m\u001b[1;33m\u001b[0m\u001b[1;33m\u001b[0m\u001b[0m\n\u001b[0m\u001b[0;32m    624\u001b[0m \u001b[1;33m\u001b[0m\u001b[0m\n\u001b[0;32m    625\u001b[0m         \u001b[0mnew_task\u001b[0m \u001b[1;33m=\u001b[0m \u001b[1;32mnot\u001b[0m \u001b[0mfutures\u001b[0m\u001b[1;33m.\u001b[0m\u001b[0misfuture\u001b[0m\u001b[1;33m(\u001b[0m\u001b[0mfuture\u001b[0m\u001b[1;33m)\u001b[0m\u001b[1;33m\u001b[0m\u001b[1;33m\u001b[0m\u001b[0m\n",
      "\u001b[1;32mC:\\ProgramData\\Anaconda3\\envs\\fubin\\lib\\asyncio\\base_events.py\u001b[0m in \u001b[0;36m_check_running\u001b[1;34m(self)\u001b[0m\n\u001b[0;32m    581\u001b[0m     \u001b[1;32mdef\u001b[0m \u001b[0m_check_running\u001b[0m\u001b[1;33m(\u001b[0m\u001b[0mself\u001b[0m\u001b[1;33m)\u001b[0m\u001b[1;33m:\u001b[0m\u001b[1;33m\u001b[0m\u001b[1;33m\u001b[0m\u001b[0m\n\u001b[0;32m    582\u001b[0m         \u001b[1;32mif\u001b[0m \u001b[0mself\u001b[0m\u001b[1;33m.\u001b[0m\u001b[0mis_running\u001b[0m\u001b[1;33m(\u001b[0m\u001b[1;33m)\u001b[0m\u001b[1;33m:\u001b[0m\u001b[1;33m\u001b[0m\u001b[1;33m\u001b[0m\u001b[0m\n\u001b[1;32m--> 583\u001b[1;33m             \u001b[1;32mraise\u001b[0m \u001b[0mRuntimeError\u001b[0m\u001b[1;33m(\u001b[0m\u001b[1;34m'This event loop is already running'\u001b[0m\u001b[1;33m)\u001b[0m\u001b[1;33m\u001b[0m\u001b[1;33m\u001b[0m\u001b[0m\n\u001b[0m\u001b[0;32m    584\u001b[0m         \u001b[1;32mif\u001b[0m \u001b[0mevents\u001b[0m\u001b[1;33m.\u001b[0m\u001b[0m_get_running_loop\u001b[0m\u001b[1;33m(\u001b[0m\u001b[1;33m)\u001b[0m \u001b[1;32mis\u001b[0m \u001b[1;32mnot\u001b[0m \u001b[1;32mNone\u001b[0m\u001b[1;33m:\u001b[0m\u001b[1;33m\u001b[0m\u001b[1;33m\u001b[0m\u001b[0m\n\u001b[0;32m    585\u001b[0m             raise RuntimeError(\n",
      "\u001b[1;31mRuntimeError\u001b[0m: This event loop is already running"
     ]
    }
   ],
   "source": [
    "# 3.3 自动切换，效率高，采用asyncio模块加python的async、await关键字语法来实现协程。\n",
    "# 切换-微观不并行宏观并行-异步编程。利用中间等待时间执行其他代码。\n",
    "# 在ipynb执行会报错，跟jupyter notebook机制有关\n",
    "# await本质是一个生成器，返回异步执行结果\n",
    "import asyncio\n",
    "\n",
    "async def fun1():\n",
    "    print(1)\n",
    "    await asyncio.sleep(2) # 等待时间或其他IO任务，让出cpu自动切换到其他任务，且能够自动切换回来。非阻塞式睡眠。\n",
    "    # time.sleep(2) # 阻塞式睡眠\n",
    "    print(2)\n",
    "async def fun2():\n",
    "    print(3)\n",
    "    await asyncio.sleep(2) # 等待时间或其他IO任务，让出cpu自动切换到其他任务，且能够自动切换回来\n",
    "    print(4)\n",
    "\n",
    "# 包裹成任务\n",
    "tasks = [asyncio.ensure_future(fun1()), asyncio.ensure_future(fun2())]\n",
    "\n",
    "loop = asyncio.get_event_loop() # 轮询，一般程序入口\n",
    "# 内部一个线程来执行\n",
    "loop.run_until_complete(asyncio.wait(tasks))\n",
    "loop.close()\n",
    "\n",
    "# cmd下执行输出：\n",
    "# 1\n",
    "# 3\n",
    "# 2\n",
    "# 4"
   ]
  },
  {
   "cell_type": "code",
   "execution_count": 4,
   "id": "2df27f6b",
   "metadata": {},
   "outputs": [
    {
     "ename": "RuntimeError",
     "evalue": "asyncio.run() cannot be called from a running event loop",
     "output_type": "error",
     "traceback": [
      "\u001b[0;31m---------------------------------------------------------------------------\u001b[0m",
      "\u001b[0;31mRuntimeError\u001b[0m                              Traceback (most recent call last)",
      "Input \u001b[0;32mIn [4]\u001b[0m, in \u001b[0;36m<cell line: 13>\u001b[0;34m()\u001b[0m\n\u001b[1;32m     11\u001b[0m     result1 \u001b[38;5;241m=\u001b[39m \u001b[38;5;28;01mawait\u001b[39;00m task1\n\u001b[1;32m     12\u001b[0m     result2 \u001b[38;5;241m=\u001b[39m \u001b[38;5;28;01mawait\u001b[39;00m task2\n\u001b[0;32m---> 13\u001b[0m \u001b[43masyncio\u001b[49m\u001b[38;5;241;43m.\u001b[39;49m\u001b[43mrun\u001b[49m\u001b[43m(\u001b[49m\u001b[43mmain\u001b[49m\u001b[43m(\u001b[49m\u001b[43m)\u001b[49m\u001b[43m)\u001b[49m\n",
      "File \u001b[0;32m~/opt/anaconda3/lib/python3.9/asyncio/runners.py:33\u001b[0m, in \u001b[0;36mrun\u001b[0;34m(main, debug)\u001b[0m\n\u001b[1;32m      9\u001b[0m \u001b[38;5;124;03m\"\"\"Execute the coroutine and return the result.\u001b[39;00m\n\u001b[1;32m     10\u001b[0m \n\u001b[1;32m     11\u001b[0m \u001b[38;5;124;03mThis function runs the passed coroutine, taking care of\u001b[39;00m\n\u001b[0;32m   (...)\u001b[0m\n\u001b[1;32m     30\u001b[0m \u001b[38;5;124;03m    asyncio.run(main())\u001b[39;00m\n\u001b[1;32m     31\u001b[0m \u001b[38;5;124;03m\"\"\"\u001b[39;00m\n\u001b[1;32m     32\u001b[0m \u001b[38;5;28;01mif\u001b[39;00m events\u001b[38;5;241m.\u001b[39m_get_running_loop() \u001b[38;5;129;01mis\u001b[39;00m \u001b[38;5;129;01mnot\u001b[39;00m \u001b[38;5;28;01mNone\u001b[39;00m:\n\u001b[0;32m---> 33\u001b[0m     \u001b[38;5;28;01mraise\u001b[39;00m \u001b[38;5;167;01mRuntimeError\u001b[39;00m(\n\u001b[1;32m     34\u001b[0m         \u001b[38;5;124m\"\u001b[39m\u001b[38;5;124masyncio.run() cannot be called from a running event loop\u001b[39m\u001b[38;5;124m\"\u001b[39m)\n\u001b[1;32m     36\u001b[0m \u001b[38;5;28;01mif\u001b[39;00m \u001b[38;5;129;01mnot\u001b[39;00m coroutines\u001b[38;5;241m.\u001b[39miscoroutine(main):\n\u001b[1;32m     37\u001b[0m     \u001b[38;5;28;01mraise\u001b[39;00m \u001b[38;5;167;01mValueError\u001b[39;00m(\u001b[38;5;124m\"\u001b[39m\u001b[38;5;124ma coroutine was expected, got \u001b[39m\u001b[38;5;132;01m{!r}\u001b[39;00m\u001b[38;5;124m\"\u001b[39m\u001b[38;5;241m.\u001b[39mformat(main))\n",
      "\u001b[0;31mRuntimeError\u001b[0m: asyncio.run() cannot be called from a running event loop"
     ]
    }
   ],
   "source": [
    "# 协程例子二:cmd下执行不报错\n",
    "# 背后有event loop\n",
    "import asyncio\n",
    "\n",
    "async def xprint(x: int, s: str):\n",
    "    await asyncio.sleep(x)\n",
    "    print(s)\n",
    "    return s\n",
    "async def main():\n",
    "#     task1 = asyncio.create_task(xprint(1,'fu'))\n",
    "#     task2 = asyncio.create_task(xprint(2,'bin'))\n",
    "#     result1 = await task1\n",
    "#     result2 = await task2\n",
    "#     results = await asyncio.gather(task1,task2) # 一下获取所有\n",
    "    results = await asyncio.gather(xprint(1,'fu'),xprint(2,'bin')) # 自动封装成任务\n",
    "asyncio.run(main())\n"
   ]
  },
  {
   "cell_type": "code",
   "execution_count": null,
   "id": "d5498f80fb9fe5f2",
   "metadata": {},
   "outputs": [],
   "source": [
    "# 3.4 自动切换，采用aiohttp实现爬虫，io等待时候干点别的事情（aiohttp：http协程接口）\n",
    "# 3.4.1 多线程协同\n",
    "# 3.4.2 多进程协同（速度远远大于其他）\n",
    "\n",
    "import aiohttp, asyncio\n",
    "\n",
    "# 协程要比线程更加合适，节约资源，完成并发。协程本质是一个线程，不适合做计算处理。数据回来了，让其他线程来处理。\n",
    "# 后期项目开发基于框架，框架内部已经使用了这些东西。多进程+协程实现很多高并发。\n",
    "# 非阻塞和协程。\n",
    "\n",
    "# 协程（单核cpu，开销最小） -> 线程（单核cpu） -> 进程(多核cpu)"
   ]
  },
  {
   "cell_type": "code",
   "execution_count": null,
   "id": "2b90eab7a93966e5",
   "metadata": {},
   "outputs": [],
   "source": []
  }
 ],
 "metadata": {
  "kernelspec": {
   "display_name": "Python 3 (ipykernel)",
   "language": "python",
   "name": "python3"
  },
  "language_info": {
   "codemirror_mode": {
    "name": "ipython",
    "version": 3
   },
   "file_extension": ".py",
   "mimetype": "text/x-python",
   "name": "python",
   "nbconvert_exporter": "python",
   "pygments_lexer": "ipython3",
   "version": "3.9.13"
  }
 },
 "nbformat": 4,
 "nbformat_minor": 5
}
